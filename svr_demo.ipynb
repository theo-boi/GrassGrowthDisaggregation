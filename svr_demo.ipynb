{
 "cells": [
  {
   "cell_type": "code",
   "execution_count": 1,
   "id": "167d5bd0",
   "metadata": {
    "collapsed": false,
    "jupyter": {
     "outputs_hidden": false
    },
    "pycharm": {
     "name": "#%%\n"
    }
   },
   "outputs": [],
   "source": [
    "# Importing the libraries\n",
    "\n",
    "import numpy as np\n",
    "import matplotlib.pyplot as plt\n",
    "import pandas as pd\n",
    "\n",
    "pd.set_option(\"display.precision\", 2)"
   ]
  },
  {
   "cell_type": "code",
   "execution_count": 2,
   "id": "de58b36c-5a4e-4c41-8ffb-97ee83e5f381",
   "metadata": {
    "collapsed": false,
    "jupyter": {
     "outputs_hidden": false
    },
    "pycharm": {
     "name": "#%%\n"
    }
   },
   "outputs": [
    {
     "name": "stdout",
     "output_type": "stream",
     "text": [
      "5 %\n",
      "10 %\n",
      "15 %\n",
      "20 %\n",
      "25 %\n",
      "30 %\n",
      "35 %\n",
      "40 %\n",
      "45 %\n",
      "50 %\n",
      "55 %\n",
      "60 %\n",
      "65 %\n",
      "70 %\n",
      "75 %\n",
      "80 %\n",
      "85 %\n",
      "90 %\n",
      "95 %\n"
     ]
    },
    {
     "data": {
      "text/plain": [
       "'\\nimport pickle\\n\\nwith open(\"x.pickle\", \"rb\") as infile:\\n    X = pickle.load(infile)\\nwith open(\"y.pickle\", \"rb\") as infile:\\n    Y = pickle.load(infile)\\n'"
      ]
     },
     "execution_count": 2,
     "metadata": {},
     "output_type": "execute_result"
    }
   ],
   "source": [
    "# Import data\n",
    "\n",
    "%run data_preprocessing.ipynb\n",
    "\"\"\"\n",
    "import pickle\n",
    "\n",
    "with open(\"x.pickle\", \"rb\") as infile:\n",
    "    X = pickle.load(infile)\n",
    "with open(\"y.pickle\", \"rb\") as infile:\n",
    "    Y = pickle.load(infile)\n",
    "\"\"\""
   ]
  },
  {
   "cell_type": "code",
   "execution_count": 3,
   "id": "6204a8bb-3a7e-41a2-b360-eb4594680b98",
   "metadata": {
    "collapsed": false,
    "jupyter": {
     "outputs_hidden": false
    },
    "pycharm": {
     "name": "#%%\n"
    }
   },
   "outputs": [],
   "source": [
    "X = np.array(X)\n",
    "Y = np.array(Y).reshape(-1, 1)"
   ]
  },
  {
   "cell_type": "code",
   "execution_count": 5,
   "id": "c007728d-51a5-435a-8289-a297edc20405",
   "metadata": {
    "collapsed": false,
    "jupyter": {
     "outputs_hidden": false
    },
    "pycharm": {
     "name": "#%%\n"
    }
   },
   "outputs": [],
   "source": [
    "from sklearn.preprocessing import StandardScaler\n",
    "\n",
    "sc_X = StandardScaler()\n",
    "sc_y = StandardScaler()\n",
    "X = sc_X.fit_transform(X)\n",
    "Y = sc_y.fit_transform(Y)\n",
    "\n",
    "Y = Y.reshape(-1)"
   ]
  },
  {
   "cell_type": "code",
   "execution_count": 6,
   "id": "aa20edc7-10ff-40d7-b9a6-100ad7659549",
   "metadata": {},
   "outputs": [
    {
     "name": "stdout",
     "output_type": "stream",
     "text": [
      "(1691626, 31)\n",
      "[[-1.87376221 -1.95287751 -1.95703038 ... -1.19645507 -0.81223817\n",
      "  -0.78751633]\n",
      " [-0.82114856 -1.0408372  -0.96214036 ... -0.81192689 -0.78825472\n",
      "  -0.9683467 ]\n",
      " [-0.71212962 -0.99236262 -0.885073   ... -0.78794736 -0.96915656\n",
      "  -0.86384302]\n",
      " ...\n",
      " [ 1.27913458  0.23206944  0.71407467 ...  0.58204707  0.19051233\n",
      "   0.42808876]\n",
      " [ 1.0811206   0.02380827  0.50619562 ...  0.19065949  0.42783077\n",
      "  -0.55959206]\n",
      " [ 0.98100117  0.00226401  0.4483951  ...  0.42793909 -0.56024037\n",
      "  -0.62116449]]\n"
     ]
    }
   ],
   "source": [
    "print(X.shape)\n",
    "print(X)"
   ]
  },
  {
   "cell_type": "code",
   "execution_count": 7,
   "id": "17c36d76-7611-4bfc-895a-9609f5e0d9d0",
   "metadata": {},
   "outputs": [
    {
     "name": "stdout",
     "output_type": "stream",
     "text": [
      "(1691626,)\n",
      "[-0.86408293 -0.19321275 -0.28235499 ... -0.62139141 -0.53584714\n",
      " -0.7970329 ]\n"
     ]
    }
   ],
   "source": [
    "print(Y.shape)\n",
    "print(Y)"
   ]
  },
  {
   "cell_type": "markdown",
   "id": "30903884",
   "metadata": {
    "pycharm": {
     "name": "#%% md\n"
    }
   },
   "source": [
    "# Implementation Method of SVR Algorithm"
   ]
  },
  {
   "cell_type": "code",
   "execution_count": 8,
   "id": "f1f03be5-3e3e-4641-a65e-e0a073a1dd46",
   "metadata": {
    "collapsed": false,
    "jupyter": {
     "outputs_hidden": false
    },
    "pycharm": {
     "name": "#%%\n"
    }
   },
   "outputs": [],
   "source": [
    "from sklearn.linear_model import LinearRegression\n",
    "\n",
    "regressor = LinearRegression()"
   ]
  },
  {
   "cell_type": "code",
   "execution_count": 9,
   "id": "defa4a32-c140-4262-8666-d88544f23ff0",
   "metadata": {
    "collapsed": false,
    "jupyter": {
     "outputs_hidden": false
    },
    "pycharm": {
     "name": "#%%\n"
    }
   },
   "outputs": [],
   "source": [
    "from sklearn.svm import SVR\n",
    "\n",
    "regressor = SVR(kernel = 'rbf', verbose= True)"
   ]
  },
  {
   "cell_type": "code",
   "execution_count": null,
   "id": "7334812f",
   "metadata": {
    "collapsed": false,
    "jupyter": {
     "outputs_hidden": false
    },
    "pycharm": {
     "name": "#%%\n"
    }
   },
   "outputs": [
    {
     "name": "stdout",
     "output_type": "stream",
     "text": [
      "[LibSVM]"
     ]
    }
   ],
   "source": [
    "regressor.fit(X, Y)"
   ]
  },
  {
   "cell_type": "code",
   "execution_count": null,
   "id": "2bc9aeb7-f4b3-45a2-aee1-ce8fcec11f5b",
   "metadata": {
    "collapsed": false,
    "jupyter": {
     "outputs_hidden": false
    },
    "pycharm": {
     "name": "#%%\n"
    }
   },
   "outputs": [],
   "source": [
    "# Visualising the Support Vector Regression results\n",
    "Y_pred = regressor.predict(X[:4].reshape(-1, 28)) # window_size * nb_features = 4 * 7\n",
    "\n",
    "Y_true = sc_y.inverse_transform(Y.reshape(1, -1))\n",
    "Y_pred = sc_y.inverse_transform(Y_pred.reshape(1, -1))\n",
    "\n",
    "Y_true = Y_true.reshape(-1)\n",
    "Y_pred = Y_pred.reshape(-1)\n",
    "print(Y_true[:4])\n",
    "print(Y_pred)"
   ]
  },
  {
   "cell_type": "code",
   "execution_count": null,
   "id": "f714fb9f-10a2-4ced-9d2e-36b4cb69e06e",
   "metadata": {
    "collapsed": false,
    "jupyter": {
     "outputs_hidden": false
    },
    "pycharm": {
     "name": "#%%\n"
    }
   },
   "outputs": [],
   "source": [
    "plt.plot(np.arange(len(Y_pred)), Y_true[:len(Y_pred)], color=\"blue\")\n",
    "plt.plot(np.arange(len(Y_pred)), Y_pred, color=\"red\")\n",
    "plt.show()"
   ]
  },
  {
   "cell_type": "code",
   "execution_count": null,
   "id": "243764ff",
   "metadata": {
    "collapsed": false,
    "jupyter": {
     "outputs_hidden": false
    },
    "pycharm": {
     "name": "#%%\n"
    }
   },
   "outputs": [],
   "source": [
    "from sklearn.metrics import mean_squared_error\n",
    "\n",
    "rmse = mean_squared_error(Y_true[:len(Y_pred)], Y_pred, squared=False)\n",
    "print(rmse)"
   ]
  },
  {
   "cell_type": "code",
   "execution_count": null,
   "id": "6889085d-35f0-4e97-8f34-3b242f8df2bd",
   "metadata": {},
   "outputs": [],
   "source": []
  }
 ],
 "metadata": {
  "kernelspec": {
   "display_name": "Python 3 (ipykernel)",
   "language": "python",
   "name": "python3"
  },
  "language_info": {
   "codemirror_mode": {
    "name": "ipython",
    "version": 3
   },
   "file_extension": ".py",
   "mimetype": "text/x-python",
   "name": "python",
   "nbconvert_exporter": "python",
   "pygments_lexer": "ipython3",
   "version": "3.9.13"
  }
 },
 "nbformat": 4,
 "nbformat_minor": 5
}
