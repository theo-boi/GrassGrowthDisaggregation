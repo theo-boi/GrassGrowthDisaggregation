{
 "cells": [
  {
   "cell_type": "code",
   "execution_count": 1,
   "id": "167d5bd0",
   "metadata": {
    "collapsed": false,
    "jupyter": {
     "outputs_hidden": false
    },
    "pycharm": {
     "name": "#%%\n"
    }
   },
   "outputs": [],
   "source": [
    "# Import libraries\n",
    "\n",
    "import numpy as np\n",
    "import matplotlib.pyplot as plt\n",
    "import pandas as pd\n",
    "\n",
    "import pyreadr\n",
    "import os\n",
    "\n",
    "from data import pipeline\n",
    "\n",
    "pd.set_option(\"display.precision\", 2)"
   ]
  },
  {
   "cell_type": "markdown",
   "id": "664444fd-2e5e-4513-899f-bd6d56e73f88",
   "metadata": {},
   "source": [
    "# Data preparation"
   ]
  },
  {
   "cell_type": "code",
   "execution_count": 2,
   "id": "8cecc387-755d-4ad1-9ee0-802e51059e88",
   "metadata": {},
   "outputs": [
    {
     "name": "stdout",
     "output_type": "stream",
     "text": [
      "Loading SVR dataset\n",
      "Done!\n",
      "(1050578, 31) (1050578, 1)\n"
     ]
    }
   ],
   "source": [
    "X_train, Y_train, X_test, Y_test = pipeline.load(\"SVR\") # load / buildAndSave / build\n",
    "print(X_train.shape, Y_train.shape)"
   ]
  },
  {
   "cell_type": "code",
   "execution_count": 3,
   "id": "b199d8b5-b916-4e96-a91a-d71103d15f80",
   "metadata": {},
   "outputs": [],
   "source": [
    "from sklearn.model_selection import train_test_split\n",
    "\n",
    "def reduceRandomly(X, Y, new_size):\n",
    "    # Shuffle the dataset\n",
    "    X_init, X_shuffled, Y_init, Y_shuffled = train_test_split(X, Y, test_size= len(X)-1)\n",
    "    \n",
    "    # Insert the non-shuffled value at a random index\n",
    "    index = np.random.randint(0, len(X_shuffled))\n",
    "    X_shuffled = np.concatenate((X_shuffled[:index], X_init, X_shuffled[index:]))\n",
    "    Y_shuffled = np.concatenate((Y_shuffled[:index], Y_init, Y_shuffled[index:]))\n",
    "    \n",
    "    # Reduce the size of X and Y\n",
    "    X_shuffled_reduced = X_shuffled[:new_size]\n",
    "    Y_shuffled_reduced = Y_shuffled[:new_size]\n",
    "    return X_shuffled_reduced, Y_shuffled_reduced\n",
    "\n",
    "X_train, Y_train = reduceRandomly(X_train, Y_train, 10000)"
   ]
  },
  {
   "cell_type": "code",
   "execution_count": 4,
   "id": "c007728d-51a5-435a-8289-a297edc20405",
   "metadata": {
    "collapsed": false,
    "jupyter": {
     "outputs_hidden": false
    },
    "pycharm": {
     "name": "#%%\n"
    }
   },
   "outputs": [],
   "source": [
    "from sklearn.preprocessing import StandardScaler\n",
    "\n",
    "Y_train = Y_train.reshape(-1, 1)\n",
    "Y_test = Y_test.reshape(-1, 1)\n",
    "\n",
    "sc_X = StandardScaler()\n",
    "X_train = sc_X.fit_transform(X_train)\n",
    "X_test = sc_X.transform(X_test)\n",
    "\n",
    "sc_y = StandardScaler()\n",
    "Y_train = sc_y.fit_transform(Y_train)\n",
    "Y_train = Y_train.reshape(-1)"
   ]
  },
  {
   "cell_type": "code",
   "execution_count": 5,
   "id": "32a504a1-b068-40bb-8ac3-dd3a9a7cd3bf",
   "metadata": {},
   "outputs": [
    {
     "name": "stdout",
     "output_type": "stream",
     "text": [
      "(10000, 31) (10000,)\n"
     ]
    }
   ],
   "source": [
    "print(X_train.shape, Y_train.shape)"
   ]
  },
  {
   "cell_type": "markdown",
   "id": "30903884",
   "metadata": {
    "pycharm": {
     "name": "#%% md\n"
    }
   },
   "source": [
    "# Training"
   ]
  },
  {
   "cell_type": "code",
   "execution_count": 6,
   "id": "4cbbc243-a6d7-4aaf-81cb-1b23379be4f9",
   "metadata": {},
   "outputs": [],
   "source": [
    "from sklearn.svm import SVR\n",
    "from sklearn.model_selection import GridSearchCV, RandomizedSearchCV\n",
    "import scipy.stats as stats\n",
    "\n",
    "regressor = SVR(kernel= 'rbf', C= 100)"
   ]
  },
  {
   "cell_type": "code",
   "execution_count": 7,
   "id": "e885bc8d-8206-49e0-938f-618da6ac55f8",
   "metadata": {},
   "outputs": [],
   "source": [
    "rand_list = {\"C\": stats.expon(scale=100)}\n",
    "\n",
    "tuner = RandomizedSearchCV(\n",
    "    estimator= regressor,\n",
    "    param_distributions= rand_list,\n",
    "    n_iter= 10,\n",
    "    cv= 5,\n",
    "    random_state= 0)"
   ]
  },
  {
   "cell_type": "code",
   "execution_count": null,
   "id": "6a3f730c-8968-4ef1-8567-da2acf6ad49d",
   "metadata": {},
   "outputs": [],
   "source": [
    "# Reload tuner\n",
    "# with open(\"svr_automl.pkl\", \"rb\") as f:\n",
    "#     tuner = pickle.load(f)\n",
    "\n",
    "tuner.fit(X_train, Y_train)\n",
    "\n",
    "tuner.cv_results_\n",
    "with open(\"svr_automl.pkl\", \"wb\") as f:\n",
    "    pickle.dump(tuner, f)"
   ]
  },
  {
   "cell_type": "code",
   "execution_count": null,
   "id": "7e9cf702-fd86-4703-b246-22a9c279458e",
   "metadata": {},
   "outputs": [],
   "source": [
    "# Reload tuner\n",
    "with open(\"svr_automl.pkl\", \"rb\") as f:\n",
    "    tuner = pickle.load(f)\n",
    "\n",
    "regressor.set_params(**tuner.best_params_)\n",
    "\n",
    "regressor.fit(X_train, Y_train, n_jobs= -1)"
   ]
  },
  {
   "cell_type": "code",
   "execution_count": null,
   "id": "79247d03-66a2-44ae-9802-0eb76085f460",
   "metadata": {},
   "outputs": [],
   "source": [
    "from sklearn.metrics import mean_squared_error\n",
    "from math import sqrt\n",
    "\n",
    "print('Loss (RMSE) : %.3f' % sqrt(mean_squared_error(Y_train, regressor.predict(X_train))))"
   ]
  },
  {
   "cell_type": "markdown",
   "id": "82306ba6-e734-4d1c-8683-41082f994712",
   "metadata": {},
   "source": [
    "# Evaluation"
   ]
  },
  {
   "cell_type": "code",
   "execution_count": null,
   "id": "be92de98-45d9-4afe-a90c-014b15c81f36",
   "metadata": {},
   "outputs": [],
   "source": [
    "X_test = X_test[:1000]\n",
    "Y_test = Y_test[:1000]\n",
    "print(X_test.shape, Y_test.shape)"
   ]
  },
  {
   "cell_type": "code",
   "execution_count": null,
   "id": "0422684c-c007-4eba-8a04-b526582217a4",
   "metadata": {},
   "outputs": [],
   "source": [
    "decades_per_year = 37\n",
    "Y_naive = []\n",
    "for decade in range(0, len(Y_test), decades_per_year):\n",
    "    growth_avg = Y_test[decade:decade + decades_per_year].mean()\n",
    "    Y_naive += [growth_avg] * decades_per_year"
   ]
  },
  {
   "cell_type": "code",
   "execution_count": null,
   "id": "5dec17ee-9d3e-4fa6-bcd2-c496ddeb4b9f",
   "metadata": {},
   "outputs": [],
   "source": [
    "print('Test RMSE with naive model : %.3f' % sqrt(mean_squared_error(Y_test, Y_naive)))"
   ]
  },
  {
   "cell_type": "code",
   "execution_count": null,
   "id": "c0231047-b784-4819-ab53-affb949e91c6",
   "metadata": {
    "collapsed": false,
    "jupyter": {
     "outputs_hidden": false
    },
    "pycharm": {
     "name": "#%%\n"
    }
   },
   "outputs": [],
   "source": [
    "Y_preds = regressor.predict(X_test)"
   ]
  },
  {
   "cell_type": "code",
   "execution_count": null,
   "id": "243764ff",
   "metadata": {
    "collapsed": false,
    "jupyter": {
     "outputs_hidden": false
    },
    "pycharm": {
     "name": "#%%\n"
    }
   },
   "outputs": [],
   "source": [
    "print('Test RMSE : %.3f' % sqrt(mean_squared_error(Y_test, Y_preds)))"
   ]
  },
  {
   "cell_type": "code",
   "execution_count": null,
   "id": "a4a0e6f6-a5d3-419f-abfc-32653d6f163b",
   "metadata": {
    "collapsed": false,
    "jupyter": {
     "outputs_hidden": false
    },
    "pycharm": {
     "name": "#%%\n"
    }
   },
   "outputs": [],
   "source": [
    "Y_preds = sc_y.inverse_transform(Y_preds.reshape(-1, 1))\n",
    "Y_preds = Y_preds.reshape(-1)\n",
    "\n",
    "year = 5\n",
    "plt.plot([decade for decade in range(37)], Y_test[37*year:37*(year+1)], color=\"blue\", label= \"raw\")\n",
    "plt.plot([decade for decade in range(37)], Y_preds[37*year:37*(year+1)], color=\"red\", label= \"svr\")\n",
    "plt.plot([decade for decade in range(37)], Y_naive[37*year:37*(year+1)], color=\"red\", label= \"naive model\")\n",
    "plt.xlabel(\"Decades\")\n",
    "plt.ylabel(\"Growth\")\n",
    "plt.legend()\n",
    "plt.show()"
   ]
  },
  {
   "cell_type": "code",
   "execution_count": null,
   "id": "6a0d1d1c-30dd-4590-a641-8a303fe6117d",
   "metadata": {
    "tags": []
   },
   "outputs": [],
   "source": []
  }
 ],
 "metadata": {
  "kernelspec": {
   "display_name": "Python 3 (ipykernel)",
   "language": "python",
   "name": "python3"
  },
  "language_info": {
   "codemirror_mode": {
    "name": "ipython",
    "version": 3
   },
   "file_extension": ".py",
   "mimetype": "text/x-python",
   "name": "python",
   "nbconvert_exporter": "python",
   "pygments_lexer": "ipython3",
   "version": "3.10.8"
  }
 },
 "nbformat": 4,
 "nbformat_minor": 5
}
