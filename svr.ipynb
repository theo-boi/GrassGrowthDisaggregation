{
 "cells": [
  {
   "cell_type": "code",
   "execution_count": 1,
   "id": "167d5bd0",
   "metadata": {
    "collapsed": false,
    "jupyter": {
     "outputs_hidden": false
    },
    "pycharm": {
     "name": "#%%\n"
    }
   },
   "outputs": [],
   "source": [
    "# Import libraries\n",
    "\n",
    "import numpy as np\n",
    "import matplotlib.pyplot as plt\n",
    "import pandas as pd\n",
    "\n",
    "import pickle\n",
    "import pyreadr\n",
    "import os\n",
    "\n",
    "from data import pipeline\n",
    "\n",
    "pd.set_option(\"display.precision\", 2)"
   ]
  },
  {
   "cell_type": "markdown",
   "id": "664444fd-2e5e-4513-899f-bd6d56e73f88",
   "metadata": {},
   "source": [
    "# Data preparation"
   ]
  },
  {
   "cell_type": "code",
   "execution_count": 2,
   "id": "8cecc387-755d-4ad1-9ee0-802e51059e88",
   "metadata": {},
   "outputs": [
    {
     "name": "stdout",
     "output_type": "stream",
     "text": [
      "Loading SVR dataset\n",
      "Done!\n",
      "(1050578, 31) (1050578, 1)\n"
     ]
    }
   ],
   "source": [
    "# Load / Build dataset\n",
    "\n",
    "X_train, Y_train, X_test, Y_test = pipeline.load(\"SVR\") # load / buildAndSave / build\n",
    "print(X_train.shape, Y_train.shape)"
   ]
  },
  {
   "cell_type": "code",
   "execution_count": 3,
   "id": "b199d8b5-b916-4e96-a91a-d71103d15f80",
   "metadata": {},
   "outputs": [],
   "source": [
    "# Reduce dataset\n",
    "\n",
    "from sklearn.model_selection import train_test_split\n",
    "\n",
    "def reduceRandomly(X, Y, new_size):\n",
    "    # Shuffle the dataset\n",
    "    X_init, X_shuffled, Y_init, Y_shuffled = train_test_split(X, Y, test_size= len(X)-1)\n",
    "    \n",
    "    # Insert the non-shuffled value at a random index\n",
    "    index = np.random.randint(0, len(X_shuffled))\n",
    "    X_shuffled = np.concatenate((X_shuffled[:index], X_init, X_shuffled[index:]))\n",
    "    Y_shuffled = np.concatenate((Y_shuffled[:index], Y_init, Y_shuffled[index:]))\n",
    "    \n",
    "    # Reduce the size of X and Y\n",
    "    X_shuffled_reduced = X_shuffled[:new_size]\n",
    "    Y_shuffled_reduced = Y_shuffled[:new_size]\n",
    "    return X_shuffled_reduced, Y_shuffled_reduced\n",
    "\n",
    "X_train, Y_train = reduceRandomly(X_train, Y_train, 20000)"
   ]
  },
  {
   "cell_type": "code",
   "execution_count": 4,
   "id": "a15ee96e-5a67-4b7a-9bf3-44274f238b17",
   "metadata": {},
   "outputs": [
    {
     "name": "stdout",
     "output_type": "stream",
     "text": [
      "(20000, 31) (20000,)\n"
     ]
    }
   ],
   "source": [
    "# Normalisation\n",
    "\n",
    "from sklearn.preprocessing import StandardScaler\n",
    "\n",
    "Y_train = Y_train.reshape(-1, 1)\n",
    "Y_test = Y_test.reshape(-1, 1)\n",
    "\n",
    "sc_X = StandardScaler()\n",
    "X_train = sc_X.fit_transform(X_train)\n",
    "X_test = sc_X.transform(X_test)\n",
    "\n",
    "sc_y = StandardScaler()\n",
    "Y_train = sc_y.fit_transform(Y_train)\n",
    "Y_train = Y_train.reshape(-1)\n",
    "\n",
    "print(X_train.shape, Y_train.shape)"
   ]
  },
  {
   "cell_type": "markdown",
   "id": "30903884",
   "metadata": {
    "pycharm": {
     "name": "#%% md\n"
    }
   },
   "source": [
    "# Training"
   ]
  },
  {
   "cell_type": "code",
   "execution_count": 5,
   "id": "4cbbc243-a6d7-4aaf-81cb-1b23379be4f9",
   "metadata": {},
   "outputs": [],
   "source": [
    "# Import libraries for training and tuning\n",
    "\n",
    "from sklearn.svm import SVR\n",
    "from sklearn.model_selection import GridSearchCV, RandomizedSearchCV\n",
    "import scipy.stats as stats\n",
    "\n",
    "# Define the model\n",
    "\n",
    "regressor = SVR(kernel= 'rbf',\n",
    "                verbose= 1)"
   ]
  },
  {
   "cell_type": "code",
   "execution_count": 6,
   "id": "e885bc8d-8206-49e0-938f-618da6ac55f8",
   "metadata": {},
   "outputs": [],
   "source": [
    "rand_list = {\"C\": stats.expon(scale=100)}\n",
    "\n",
    "tuner = RandomizedSearchCV(\n",
    "    estimator= regressor,\n",
    "    param_distributions= rand_list,\n",
    "    n_iter= 20,\n",
    "    cv= 5,\n",
    "    random_state= 0,\n",
    "    n_jobs= -1,\n",
    "    verbose= 1)"
   ]
  },
  {
   "cell_type": "code",
   "execution_count": 7,
   "id": "6a3f730c-8968-4ef1-8567-da2acf6ad49d",
   "metadata": {},
   "outputs": [],
   "source": [
    "# Reload tuner\n",
    "with open(\"svr_automl.pkl\", \"rb\") as f:\n",
    "    tuner = pickle.load(f)\n",
    "\n",
    "#tuner.fit(X_train, Y_train)\n",
    "#tuner.cv_results_\n",
    "\n",
    "with open(\"svr_automl.pkl\", \"wb\") as f:\n",
    "    pickle.dump(tuner, f)"
   ]
  },
  {
   "cell_type": "code",
   "execution_count": 8,
   "id": "d19bb87f-5392-4858-98aa-2d4c53a6afd4",
   "metadata": {},
   "outputs": [
    {
     "data": {
      "text/html": [
       "<style>#sk-container-id-1 {color: black;background-color: white;}#sk-container-id-1 pre{padding: 0;}#sk-container-id-1 div.sk-toggleable {background-color: white;}#sk-container-id-1 label.sk-toggleable__label {cursor: pointer;display: block;width: 100%;margin-bottom: 0;padding: 0.3em;box-sizing: border-box;text-align: center;}#sk-container-id-1 label.sk-toggleable__label-arrow:before {content: \"▸\";float: left;margin-right: 0.25em;color: #696969;}#sk-container-id-1 label.sk-toggleable__label-arrow:hover:before {color: black;}#sk-container-id-1 div.sk-estimator:hover label.sk-toggleable__label-arrow:before {color: black;}#sk-container-id-1 div.sk-toggleable__content {max-height: 0;max-width: 0;overflow: hidden;text-align: left;background-color: #f0f8ff;}#sk-container-id-1 div.sk-toggleable__content pre {margin: 0.2em;color: black;border-radius: 0.25em;background-color: #f0f8ff;}#sk-container-id-1 input.sk-toggleable__control:checked~div.sk-toggleable__content {max-height: 200px;max-width: 100%;overflow: auto;}#sk-container-id-1 input.sk-toggleable__control:checked~label.sk-toggleable__label-arrow:before {content: \"▾\";}#sk-container-id-1 div.sk-estimator input.sk-toggleable__control:checked~label.sk-toggleable__label {background-color: #d4ebff;}#sk-container-id-1 div.sk-label input.sk-toggleable__control:checked~label.sk-toggleable__label {background-color: #d4ebff;}#sk-container-id-1 input.sk-hidden--visually {border: 0;clip: rect(1px 1px 1px 1px);clip: rect(1px, 1px, 1px, 1px);height: 1px;margin: -1px;overflow: hidden;padding: 0;position: absolute;width: 1px;}#sk-container-id-1 div.sk-estimator {font-family: monospace;background-color: #f0f8ff;border: 1px dotted black;border-radius: 0.25em;box-sizing: border-box;margin-bottom: 0.5em;}#sk-container-id-1 div.sk-estimator:hover {background-color: #d4ebff;}#sk-container-id-1 div.sk-parallel-item::after {content: \"\";width: 100%;border-bottom: 1px solid gray;flex-grow: 1;}#sk-container-id-1 div.sk-label:hover label.sk-toggleable__label {background-color: #d4ebff;}#sk-container-id-1 div.sk-serial::before {content: \"\";position: absolute;border-left: 1px solid gray;box-sizing: border-box;top: 0;bottom: 0;left: 50%;z-index: 0;}#sk-container-id-1 div.sk-serial {display: flex;flex-direction: column;align-items: center;background-color: white;padding-right: 0.2em;padding-left: 0.2em;position: relative;}#sk-container-id-1 div.sk-item {position: relative;z-index: 1;}#sk-container-id-1 div.sk-parallel {display: flex;align-items: stretch;justify-content: center;background-color: white;position: relative;}#sk-container-id-1 div.sk-item::before, #sk-container-id-1 div.sk-parallel-item::before {content: \"\";position: absolute;border-left: 1px solid gray;box-sizing: border-box;top: 0;bottom: 0;left: 50%;z-index: -1;}#sk-container-id-1 div.sk-parallel-item {display: flex;flex-direction: column;z-index: 1;position: relative;background-color: white;}#sk-container-id-1 div.sk-parallel-item:first-child::after {align-self: flex-end;width: 50%;}#sk-container-id-1 div.sk-parallel-item:last-child::after {align-self: flex-start;width: 50%;}#sk-container-id-1 div.sk-parallel-item:only-child::after {width: 0;}#sk-container-id-1 div.sk-dashed-wrapped {border: 1px dashed gray;margin: 0 0.4em 0.5em 0.4em;box-sizing: border-box;padding-bottom: 0.4em;background-color: white;}#sk-container-id-1 div.sk-label label {font-family: monospace;font-weight: bold;display: inline-block;line-height: 1.2em;}#sk-container-id-1 div.sk-label-container {text-align: center;}#sk-container-id-1 div.sk-container {/* jupyter's `normalize.less` sets `[hidden] { display: none; }` but bootstrap.min.css set `[hidden] { display: none !important; }` so we also need the `!important` here to be able to override the default hidden behavior on the sphinx rendered scikit-learn.org. See: https://github.com/scikit-learn/scikit-learn/issues/21755 */display: inline-block !important;position: relative;}#sk-container-id-1 div.sk-text-repr-fallback {display: none;}</style><div id=\"sk-container-id-1\" class=\"sk-top-container\"><div class=\"sk-text-repr-fallback\"><pre>SVR(C=125.59307629658379, verbose=1)</pre><b>In a Jupyter environment, please rerun this cell to show the HTML representation or trust the notebook. <br />On GitHub, the HTML representation is unable to render, please try loading this page with nbviewer.org.</b></div><div class=\"sk-container\" hidden><div class=\"sk-item\"><div class=\"sk-estimator sk-toggleable\"><input class=\"sk-toggleable__control sk-hidden--visually\" id=\"sk-estimator-id-1\" type=\"checkbox\" checked><label for=\"sk-estimator-id-1\" class=\"sk-toggleable__label sk-toggleable__label-arrow\">SVR</label><div class=\"sk-toggleable__content\"><pre>SVR(C=125.59307629658379, verbose=1)</pre></div></div></div></div></div>"
      ],
      "text/plain": [
       "SVR(C=125.59307629658379, verbose=1)"
      ]
     },
     "execution_count": 8,
     "metadata": {},
     "output_type": "execute_result"
    }
   ],
   "source": [
    "# Reload the model from the tuner\n",
    "\n",
    "with open(\"svr_automl.pkl\", \"rb\") as f:\n",
    "    tuner = pickle.load(f)\n",
    "\n",
    "regressor.set_params(**tuner.best_params_)"
   ]
  },
  {
   "cell_type": "code",
   "execution_count": null,
   "id": "d1fc3539-157c-4fea-823f-19a10d6ccee1",
   "metadata": {},
   "outputs": [],
   "source": [
    "# Train the model\n",
    "\n",
    "regressor.fit(X_train, Y_train)"
   ]
  },
  {
   "cell_type": "code",
   "execution_count": 17,
   "id": "79247d03-66a2-44ae-9802-0eb76085f460",
   "metadata": {},
   "outputs": [
    {
     "name": "stdout",
     "output_type": "stream",
     "text": [
      "Loss (RMSE) : 0.227\n"
     ]
    }
   ],
   "source": [
    "# Compute the loss\n",
    "\n",
    "from sklearn.metrics import mean_squared_error\n",
    "from math import sqrt\n",
    "\n",
    "print('Loss (RMSE) : %.3f' % sqrt(mean_squared_error(Y_train, regressor.predict(X_train))))"
   ]
  },
  {
   "cell_type": "markdown",
   "id": "82306ba6-e734-4d1c-8683-41082f994712",
   "metadata": {},
   "source": [
    "# Evaluation"
   ]
  },
  {
   "cell_type": "code",
   "execution_count": 11,
   "id": "be92de98-45d9-4afe-a90c-014b15c81f36",
   "metadata": {},
   "outputs": [
    {
     "name": "stdout",
     "output_type": "stream",
     "text": [
      "(999, 31) (999, 1)\n"
     ]
    }
   ],
   "source": [
    "# Reduce the size of the test dataset\n",
    "\n",
    "X_test = X_test[:999]\n",
    "Y_test = Y_test[:999]\n",
    "print(X_test.shape, Y_test.shape)"
   ]
  },
  {
   "cell_type": "code",
   "execution_count": 12,
   "id": "9c01895b-7be9-482f-92cd-d6b75e4604fd",
   "metadata": {},
   "outputs": [
    {
     "name": "stdout",
     "output_type": "stream",
     "text": [
      "Test RMSE with naive model : 42.801\n"
     ]
    }
   ],
   "source": [
    "decades_per_year = 37\n",
    "Y_naive = [Y_test[4:4+decades_per_year].mean()]*3\n",
    "for decade in range(3, len(Y_test), decades_per_year):\n",
    "    growth_avg = Y_train[decade:decade + decades_per_year].mean()\n",
    "    Y_naive += [growth_avg] * decades_per_year\n",
    "\n",
    "print('Test RMSE with naive model : %.3f' % sqrt(mean_squared_error(Y_test, Y_naive[3:])))"
   ]
  },
  {
   "cell_type": "code",
   "execution_count": 13,
   "id": "82c106b1-3112-4c75-bf17-9a8d988c416b",
   "metadata": {
    "collapsed": false,
    "jupyter": {
     "outputs_hidden": false
    },
    "pycharm": {
     "name": "#%%\n"
    }
   },
   "outputs": [
    {
     "name": "stdout",
     "output_type": "stream",
     "text": [
      "Test RMSE : 42.227\n"
     ]
    }
   ],
   "source": [
    "Y_preds = regressor.predict(X_test)\n",
    "\n",
    "print('Test RMSE : %.3f' % sqrt(mean_squared_error(Y_test, Y_preds)))"
   ]
  },
  {
   "cell_type": "code",
   "execution_count": 14,
   "id": "e57e5ee5-8375-4d1c-a26c-1f5905cab06d",
   "metadata": {
    "collapsed": false,
    "jupyter": {
     "outputs_hidden": false
    },
    "pycharm": {
     "name": "#%%\n"
    }
   },
   "outputs": [],
   "source": [
    "Y_preds = sc_y.inverse_transform(Y_preds.reshape(-1, 1))\n",
    "Y_preds = Y_preds.reshape(-1)\n",
    "Y_test = Y_test.reshape(-1)"
   ]
  },
  {
   "cell_type": "code",
   "execution_count": 15,
   "id": "82e76921-5c01-4df4-af49-f2b03d565fc7",
   "metadata": {
    "collapsed": false,
    "jupyter": {
     "outputs_hidden": false
    },
    "pycharm": {
     "name": "#%%\n"
    }
   },
   "outputs": [
    {
     "data": {
      "image/png": "[encoded data removed]",
      "text/plain": [
       "<Figure size 640x480 with 1 Axes>"
      ]
     },
     "metadata": {},
     "output_type": "display_data"
    }
   ],
   "source": [
    "year = 5\n",
    "decades = [decade for decade in range(37)]\n",
    "plt.plot(decades, [None]*3 + list(Y_test[37*year:37*(year+1)-3]), color=\"blue\", label= \"raw\")\n",
    "plt.plot(decades, [9.57]*3 + list(Y_preds[37*year:37*(year+1)-3]), color=\"red\", label= \"svr\")\n",
    "plt.plot(decades, Y_naive[37*year:37*(year+1)], color=\"green\", label= \"naive model\")\n",
    "plt.xlabel(\"Decades\")\n",
    "plt.ylabel(\"Growth\")\n",
    "plt.legend()\n",
    "plt.show()"
   ]
  },
  {
   "cell_type": "code",
   "execution_count": null,
   "id": "0659df38-4db9-4652-8dd0-76193e212b9a",
   "metadata": {},
   "outputs": [],
   "source": []
  }
 ],
 "metadata": {
  "kernelspec": {
   "display_name": "Python 3 (ipykernel)",
   "language": "python",
   "name": "python3"
  },
  "language_info": {
   "codemirror_mode": {
    "name": "ipython",
    "version": 3
   },
   "file_extension": ".py",
   "mimetype": "text/x-python",
   "name": "python",
   "nbconvert_exporter": "python",
   "pygments_lexer": "ipython3",
   "version": "3.10.8"
  }
 },
 "nbformat": 4,
 "nbformat_minor": 5
}
