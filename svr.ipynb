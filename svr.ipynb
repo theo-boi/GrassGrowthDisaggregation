{
 "cells": [
  {
   "cell_type": "code",
   "execution_count": 1,
   "id": "167d5bd0",
   "metadata": {
    "collapsed": false,
    "jupyter": {
     "outputs_hidden": false
    },
    "pycharm": {
     "name": "#%%\n"
    }
   },
   "outputs": [],
   "source": [
    "# Import libraries\n",
    "\n",
    "import numpy as np\n",
    "import matplotlib.pyplot as plt\n",
    "import pandas as pd\n",
    "\n",
    "import pyreadr\n",
    "import os\n",
    "\n",
    "from data import pipeline\n",
    "\n",
    "pd.set_option(\"display.precision\", 2)"
   ]
  },
  {
   "cell_type": "markdown",
   "id": "664444fd-2e5e-4513-899f-bd6d56e73f88",
   "metadata": {},
   "source": [
    "# Data preparation"
   ]
  },
  {
   "cell_type": "code",
   "execution_count": 2,
   "id": "de58b36c-5a4e-4c41-8ffb-97ee83e5f381",
   "metadata": {
    "collapsed": false,
    "jupyter": {
     "outputs_hidden": false
    },
    "pycharm": {
     "name": "#%%\n"
    }
   },
   "outputs": [
    {
     "name": "stdout",
     "output_type": "stream",
     "text": [
      "Converting training dataset for SVR dataset\n",
      "0 %\n",
      "20 %\n",
      "40 %\n",
      "60 %\n",
      "80 %\n",
      "100 %\n",
      "\n",
      "Converting testing dataset for SVR dataset\n",
      "0 %\n",
      "20 %\n",
      "40 %\n",
      "60 %\n",
      "80 %\n",
      "100 %\n",
      "\n",
      "Done!\n",
      "\n",
      "Saving SVR dataset\n",
      "Done!\n"
     ]
    }
   ],
   "source": [
    "X_train, Y_train, X_test, Y_test = pipeline.buildAndSave(\"SVR\") # load / buildAndSave / build"
   ]
  },
  {
   "cell_type": "code",
   "execution_count": 3,
   "id": "6204a8bb-3a7e-41a2-b360-eb4594680b98",
   "metadata": {
    "collapsed": false,
    "jupyter": {
     "outputs_hidden": false
    },
    "pycharm": {
     "name": "#%%\n"
    }
   },
   "outputs": [],
   "source": [
    "Y_train = Y_train.reshape(-1, 1)\n",
    "Y_test = Y_test.reshape(-1, 1)"
   ]
  },
  {
   "cell_type": "code",
   "execution_count": 4,
   "id": "b199d8b5-b916-4e96-a91a-d71103d15f80",
   "metadata": {},
   "outputs": [],
   "source": [
    "X_train, Y_train, X_test, Y_test = X_train[:50000], Y_train[:50000], X_test[:50000], Y_test[:50000]"
   ]
  },
  {
   "cell_type": "code",
   "execution_count": 5,
   "id": "c007728d-51a5-435a-8289-a297edc20405",
   "metadata": {
    "collapsed": false,
    "jupyter": {
     "outputs_hidden": false
    },
    "pycharm": {
     "name": "#%%\n"
    }
   },
   "outputs": [],
   "source": [
    "from sklearn.preprocessing import StandardScaler\n",
    "\n",
    "sc_X = StandardScaler()\n",
    "X_train = sc_X.fit_transform(X_train)\n",
    "X_test = sc_X.transform(X_test)\n",
    "\n",
    "sc_y = StandardScaler()\n",
    "Y_train = sc_y.fit_transform(Y_train)\n",
    "Y_train = Y_train.reshape(-1)"
   ]
  },
  {
   "cell_type": "markdown",
   "id": "30903884",
   "metadata": {
    "pycharm": {
     "name": "#%% md\n"
    }
   },
   "source": [
    "# Training"
   ]
  },
  {
   "cell_type": "code",
   "execution_count": 6,
   "id": "32a504a1-b068-40bb-8ac3-dd3a9a7cd3bf",
   "metadata": {},
   "outputs": [
    {
     "name": "stdout",
     "output_type": "stream",
     "text": [
      "(50000, 31) (50000,)\n"
     ]
    }
   ],
   "source": [
    "print(X_train.shape, Y_train.shape)"
   ]
  },
  {
   "cell_type": "code",
   "execution_count": 7,
   "id": "f1f03be5-3e3e-4641-a65e-e0a073a1dd46",
   "metadata": {
    "collapsed": false,
    "jupyter": {
     "outputs_hidden": false
    },
    "pycharm": {
     "name": "#%%\n"
    }
   },
   "outputs": [],
   "source": [
    "from sklearn.linear_model import LinearRegression\n",
    "\n",
    "regressor = LinearRegression()"
   ]
  },
  {
   "cell_type": "code",
   "execution_count": 8,
   "id": "defa4a32-c140-4262-8666-d88544f23ff0",
   "metadata": {
    "collapsed": false,
    "jupyter": {
     "outputs_hidden": false
    },
    "pycharm": {
     "name": "#%%\n"
    }
   },
   "outputs": [],
   "source": [
    "from sklearn.svm import SVR\n",
    "\n",
    "regressor = SVR(kernel= 'rbf', C= 100, verbose= True)"
   ]
  },
  {
   "cell_type": "code",
   "execution_count": null,
   "id": "33114fc2-3440-40b4-8e5b-e5c0b07cf4ab",
   "metadata": {},
   "outputs": [
    {
     "name": "stdout",
     "output_type": "stream",
     "text": [
      "[LibSVM]"
     ]
    }
   ],
   "source": [
    "from sklearn.svm import SVR\n",
    "from sklearn.model_selection import GridSearchCV, RandomizedSearchCV\n",
    "import scipy.stats as stats\n",
    "\n",
    "rand_list = {\"C\": stats.expon(scale=100)}\n",
    "              \n",
    "rand_search = RandomizedSearchCV(regressor, param_distributions= rand_list, n_iter= 10, random_state= 0) \n",
    "rand_search.fit(X_train, Y_train) \n",
    "rand_search.cv_results_"
   ]
  },
  {
   "cell_type": "code",
   "execution_count": null,
   "id": "1fffe6ef-1bf8-40de-9162-7c7a55a220e0",
   "metadata": {},
   "outputs": [],
   "source": [
    "regressor = rand_search.best_estimator_"
   ]
  },
  {
   "cell_type": "code",
   "execution_count": null,
   "id": "7334812f",
   "metadata": {
    "collapsed": false,
    "jupyter": {
     "outputs_hidden": false
    },
    "pycharm": {
     "name": "#%%\n"
    }
   },
   "outputs": [],
   "source": [
    "regressor.fit(X_train, Y_train)"
   ]
  },
  {
   "cell_type": "code",
   "execution_count": null,
   "id": "79247d03-66a2-44ae-9802-0eb76085f460",
   "metadata": {},
   "outputs": [],
   "source": [
    "from sklearn.metrics import mean_squared_error\n",
    "from math import sqrt\n",
    "\n",
    "print('Loss (RMSE) : %.3f' % sqrt(mean_squared_error(Y_train, regressor.predict(X_train))))"
   ]
  },
  {
   "cell_type": "markdown",
   "id": "82306ba6-e734-4d1c-8683-41082f994712",
   "metadata": {},
   "source": [
    "# Evaluation"
   ]
  },
  {
   "cell_type": "code",
   "execution_count": null,
   "id": "c0231047-b784-4819-ab53-affb949e91c6",
   "metadata": {
    "collapsed": false,
    "jupyter": {
     "outputs_hidden": false
    },
    "pycharm": {
     "name": "#%%\n"
    }
   },
   "outputs": [],
   "source": [
    "Y_preds = regressor.predict(X_test)"
   ]
  },
  {
   "cell_type": "code",
   "execution_count": null,
   "id": "243764ff",
   "metadata": {
    "collapsed": false,
    "jupyter": {
     "outputs_hidden": false
    },
    "pycharm": {
     "name": "#%%\n"
    }
   },
   "outputs": [],
   "source": [
    "print('Test RMSE : %.3f' % sqrt(mean_squared_error(Y_test, Y_preds)))"
   ]
  },
  {
   "cell_type": "code",
   "execution_count": null,
   "id": "055a3936-f142-4c19-9c6c-57ed3637a710",
   "metadata": {
    "collapsed": false,
    "jupyter": {
     "outputs_hidden": false
    },
    "pycharm": {
     "name": "#%%\n"
    }
   },
   "outputs": [],
   "source": [
    "Y_preds = sc_y.inverse_transform(Y_preds.reshape(-1, 1))\n",
    "Y_preds = Y_preds.reshape(-1)"
   ]
  },
  {
   "cell_type": "code",
   "execution_count": null,
   "id": "f714fb9f-10a2-4ced-9d2e-36b4cb69e06e",
   "metadata": {
    "collapsed": false,
    "jupyter": {
     "outputs_hidden": false
    },
    "pycharm": {
     "name": "#%%\n"
    }
   },
   "outputs": [],
   "source": [
    "year = 5\n",
    "plt.plot([decade for decade in range(37)], Y_test[37*year:37*(year+1)], color=\"blue\", label= \"Test values\")\n",
    "plt.plot([decade for decade in range(37)], Y_preds[37*year:37*(year+1)], color=\"red\", label= \"Predicted values\")\n",
    "plt.xlabel(\"Decades\")\n",
    "plt.ylabel(\"Growth\")\n",
    "plt.legend()\n",
    "plt.show()"
   ]
  },
  {
   "cell_type": "code",
   "execution_count": null,
   "id": "6a0d1d1c-30dd-4590-a641-8a303fe6117d",
   "metadata": {},
   "outputs": [],
   "source": []
  }
 ],
 "metadata": {
  "kernelspec": {
   "display_name": "Python 3 (ipykernel)",
   "language": "python",
   "name": "python3"
  },
  "language_info": {
   "codemirror_mode": {
    "name": "ipython",
    "version": 3
   },
   "file_extension": ".py",
   "mimetype": "text/x-python",
   "name": "python",
   "nbconvert_exporter": "python",
   "pygments_lexer": "ipython3",
   "version": "3.10.8"
  }
 },
 "nbformat": 4,
 "nbformat_minor": 5
}
