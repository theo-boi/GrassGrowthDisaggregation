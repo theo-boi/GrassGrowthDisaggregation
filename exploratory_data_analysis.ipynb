{
 "cells": [
  {
   "cell_type": "markdown",
   "id": "1792fac5-cb8b-431e-9c3b-a051863fc8fe",
   "metadata": {},
   "source": [
    "# Exploratory Data Analysis"
   ]
  },
  {
   "cell_type": "code",
   "execution_count": 1,
   "id": "7148228e-53ff-44b0-88d3-733148295ea7",
   "metadata": {},
   "outputs": [],
   "source": [
    "# Importing the libraries\n",
    "\n",
    "import numpy as np\n",
    "import matplotlib.pyplot as plt\n",
    "import pandas as pd"
   ]
  },
  {
   "cell_type": "code",
   "execution_count": 2,
   "id": "96c26d0a-feee-4bd9-8ac3-43079a35d915",
   "metadata": {},
   "outputs": [],
   "source": [
    "# Define settings\n",
    "import os\n",
    "\n",
    "pd.set_option(\"display.precision\", 3)\n",
    "data_dir_path = os.getcwd() + '/dataverse_files/'"
   ]
  },
  {
   "cell_type": "code",
   "execution_count": 3,
   "id": "c5ee2136-b7e4-4ae3-a6ca-e22fee6f175b",
   "metadata": {},
   "outputs": [],
   "source": [
    "# Importing data\n",
    "import pyreadr\n",
    "\n",
    "croissance_et_climat_decadaires = pyreadr.read_r(data_dir_path + \"croissance_et_climat_decadaires.rds\" ).popitem()[1]\n",
    "valorisation_annuelle = pyreadr.read_r(data_dir_path + \"valorisation_annuelle.rds\" ).popitem()[1]"
   ]
  },
  {
   "cell_type": "markdown",
   "id": "c2bb71e4-730d-46b7-905c-fda6ab9a5932",
   "metadata": {},
   "source": [
    "## Analysis of growths and decadal climates"
   ]
  },
  {
   "cell_type": "code",
   "execution_count": 48,
   "id": "7124a8f0-c748-4294-af8e-265c6deb12fc",
   "metadata": {},
   "outputs": [],
   "source": [
    "df = croissance_et_climat_decadaires"
   ]
  },
  {
   "cell_type": "code",
   "execution_count": 49,
   "id": "cf841c8f-f7d9-4a46-8beb-d12118a96122",
   "metadata": {},
   "outputs": [
    {
     "data": {
      "text/html": [
       "<div>\n",
       "<style scoped>\n",
       "    .dataframe tbody tr th:only-of-type {\n",
       "        vertical-align: middle;\n",
       "    }\n",
       "\n",
       "    .dataframe tbody tr th {\n",
       "        vertical-align: top;\n",
       "    }\n",
       "\n",
       "    .dataframe thead th {\n",
       "        text-align: right;\n",
       "    }\n",
       "</style>\n",
       "<table border=\"1\" class=\"dataframe\">\n",
       "  <thead>\n",
       "    <tr style=\"text-align: right;\">\n",
       "      <th></th>\n",
       "      <th>ucs</th>\n",
       "      <th>safran</th>\n",
       "      <th>sol</th>\n",
       "      <th>type_de_prairie</th>\n",
       "      <th>gestion</th>\n",
       "      <th>annee</th>\n",
       "      <th>decade</th>\n",
       "      <th>Tmin</th>\n",
       "      <th>Tmax</th>\n",
       "      <th>Tmoy</th>\n",
       "      <th>Rain</th>\n",
       "      <th>RG</th>\n",
       "      <th>im</th>\n",
       "      <th>croissance</th>\n",
       "    </tr>\n",
       "  </thead>\n",
       "  <tbody>\n",
       "    <tr>\n",
       "      <th>0</th>\n",
       "      <td>789</td>\n",
       "      <td>2131</td>\n",
       "      <td>330343</td>\n",
       "      <td>tp3</td>\n",
       "      <td>20</td>\n",
       "      <td>1985.0</td>\n",
       "      <td>1.0</td>\n",
       "      <td>-2.289</td>\n",
       "      <td>3.178</td>\n",
       "      <td>0.444</td>\n",
       "      <td>12.3</td>\n",
       "      <td>28.912</td>\n",
       "      <td>43.573</td>\n",
       "      <td>0.032</td>\n",
       "    </tr>\n",
       "    <tr>\n",
       "      <th>1</th>\n",
       "      <td>789</td>\n",
       "      <td>2131</td>\n",
       "      <td>330343</td>\n",
       "      <td>tp3</td>\n",
       "      <td>20</td>\n",
       "      <td>1985.0</td>\n",
       "      <td>2.0</td>\n",
       "      <td>-5.740</td>\n",
       "      <td>-0.410</td>\n",
       "      <td>-3.075</td>\n",
       "      <td>19.5</td>\n",
       "      <td>33.793</td>\n",
       "      <td>104.188</td>\n",
       "      <td>0.000</td>\n",
       "    </tr>\n",
       "    <tr>\n",
       "      <th>2</th>\n",
       "      <td>789</td>\n",
       "      <td>2131</td>\n",
       "      <td>330343</td>\n",
       "      <td>tp3</td>\n",
       "      <td>20</td>\n",
       "      <td>1985.0</td>\n",
       "      <td>3.0</td>\n",
       "      <td>3.770</td>\n",
       "      <td>9.130</td>\n",
       "      <td>6.450</td>\n",
       "      <td>36.8</td>\n",
       "      <td>24.751</td>\n",
       "      <td>82.772</td>\n",
       "      <td>0.046</td>\n",
       "    </tr>\n",
       "    <tr>\n",
       "      <th>3</th>\n",
       "      <td>789</td>\n",
       "      <td>2131</td>\n",
       "      <td>330343</td>\n",
       "      <td>tp3</td>\n",
       "      <td>20</td>\n",
       "      <td>1985.0</td>\n",
       "      <td>4.0</td>\n",
       "      <td>8.230</td>\n",
       "      <td>12.450</td>\n",
       "      <td>10.340</td>\n",
       "      <td>14.4</td>\n",
       "      <td>32.975</td>\n",
       "      <td>26.195</td>\n",
       "      <td>0.075</td>\n",
       "    </tr>\n",
       "    <tr>\n",
       "      <th>4</th>\n",
       "      <td>789</td>\n",
       "      <td>2131</td>\n",
       "      <td>330343</td>\n",
       "      <td>tp3</td>\n",
       "      <td>20</td>\n",
       "      <td>1985.0</td>\n",
       "      <td>5.0</td>\n",
       "      <td>-1.380</td>\n",
       "      <td>2.520</td>\n",
       "      <td>0.570</td>\n",
       "      <td>25.3</td>\n",
       "      <td>48.912</td>\n",
       "      <td>88.562</td>\n",
       "      <td>0.015</td>\n",
       "    </tr>\n",
       "  </tbody>\n",
       "</table>\n",
       "</div>"
      ],
      "text/plain": [
       "   ucs  safran     sol type_de_prairie  gestion   annee  decade   Tmin  \\\n",
       "0  789    2131  330343             tp3       20  1985.0     1.0 -2.289   \n",
       "1  789    2131  330343             tp3       20  1985.0     2.0 -5.740   \n",
       "2  789    2131  330343             tp3       20  1985.0     3.0  3.770   \n",
       "3  789    2131  330343             tp3       20  1985.0     4.0  8.230   \n",
       "4  789    2131  330343             tp3       20  1985.0     5.0 -1.380   \n",
       "\n",
       "     Tmax    Tmoy  Rain      RG       im  croissance  \n",
       "0   3.178   0.444  12.3  28.912   43.573       0.032  \n",
       "1  -0.410  -3.075  19.5  33.793  104.188       0.000  \n",
       "2   9.130   6.450  36.8  24.751   82.772       0.046  \n",
       "3  12.450  10.340  14.4  32.975   26.195       0.075  \n",
       "4   2.520   0.570  25.3  48.912   88.562       0.015  "
      ]
     },
     "execution_count": 49,
     "metadata": {},
     "output_type": "execute_result"
    }
   ],
   "source": [
    "df.head()"
   ]
  },
  {
   "cell_type": "code",
   "execution_count": 50,
   "id": "9753eb3b-844a-4d03-8624-bce0d9b6fe99",
   "metadata": {},
   "outputs": [
    {
     "name": "stdout",
     "output_type": "stream",
     "text": [
      "(18693829, 14)\n",
      "Index(['ucs', 'safran', 'sol', 'type_de_prairie', 'gestion', 'annee', 'decade',\n",
      "       'Tmin', 'Tmax', 'Tmoy', 'Rain', 'RG', 'im', 'croissance'],\n",
      "      dtype='object')\n",
      "<class 'pandas.core.frame.DataFrame'>\n",
      "RangeIndex: 18693829 entries, 0 to 18693828\n",
      "Data columns (total 14 columns):\n",
      " #   Column           Dtype  \n",
      "---  ------           -----  \n",
      " 0   ucs              int32  \n",
      " 1   safran           int32  \n",
      " 2   sol              int32  \n",
      " 3   type_de_prairie  object \n",
      " 4   gestion          int32  \n",
      " 5   annee            float64\n",
      " 6   decade           float64\n",
      " 7   Tmin             float64\n",
      " 8   Tmax             float64\n",
      " 9   Tmoy             float64\n",
      " 10  Rain             float64\n",
      " 11  RG               float64\n",
      " 12  im               float64\n",
      " 13  croissance       float64\n",
      "dtypes: float64(9), int32(4), object(1)\n",
      "memory usage: 1.7+ GB\n",
      "None\n"
     ]
    }
   ],
   "source": [
    "print(df.shape)\n",
    "print(df.columns)\n",
    "print(df.info())"
   ]
  },
  {
   "cell_type": "code",
   "execution_count": 51,
   "id": "bbd23509-9c17-4547-a6f2-3a576934e828",
   "metadata": {},
   "outputs": [
    {
     "data": {
      "text/plain": [
       "ucs                     0\n",
       "safran                  0\n",
       "sol                     0\n",
       "type_de_prairie         0\n",
       "gestion                 0\n",
       "annee               20262\n",
       "decade              20262\n",
       "Tmin               126008\n",
       "Tmax               126008\n",
       "Tmoy               126008\n",
       "Rain               126008\n",
       "RG                 126008\n",
       "im                 126008\n",
       "croissance          20262\n",
       "dtype: int64"
      ]
     },
     "execution_count": 51,
     "metadata": {},
     "output_type": "execute_result"
    }
   ],
   "source": [
    "# To check null values row-wise\n",
    "df.isnull().sum()"
   ]
  },
  {
   "cell_type": "markdown",
   "id": "53c1898f-45fb-40b2-9ce9-4c91710c94b5",
   "metadata": {},
   "source": [
    "#### Define the columns used in the paper"
   ]
  },
  {
   "cell_type": "code",
   "execution_count": 52,
   "id": "e6fbe0d5-fbe9-4a13-9bd7-21d8f602ce56",
   "metadata": {},
   "outputs": [],
   "source": [
    "valuable_columns = [\"ucs\", \"annee\",\"decade\",\"Tmin\",\"Tmax\",\"Tmoy\",\"Rain\",\"RG\",\"im\"]\n",
    "df = df[valuable_columns]"
   ]
  },
  {
   "cell_type": "code",
   "execution_count": 53,
   "id": "00c9cfa3-9f7d-4612-aa4d-ae3e49240e73",
   "metadata": {},
   "outputs": [
    {
     "data": {
      "text/html": [
       "<div>\n",
       "<style scoped>\n",
       "    .dataframe tbody tr th:only-of-type {\n",
       "        vertical-align: middle;\n",
       "    }\n",
       "\n",
       "    .dataframe tbody tr th {\n",
       "        vertical-align: top;\n",
       "    }\n",
       "\n",
       "    .dataframe thead th {\n",
       "        text-align: right;\n",
       "    }\n",
       "</style>\n",
       "<table border=\"1\" class=\"dataframe\">\n",
       "  <thead>\n",
       "    <tr style=\"text-align: right;\">\n",
       "      <th></th>\n",
       "      <th>ucs</th>\n",
       "      <th>annee</th>\n",
       "      <th>decade</th>\n",
       "      <th>Tmin</th>\n",
       "      <th>Tmax</th>\n",
       "      <th>Tmoy</th>\n",
       "      <th>Rain</th>\n",
       "      <th>RG</th>\n",
       "      <th>im</th>\n",
       "    </tr>\n",
       "  </thead>\n",
       "  <tbody>\n",
       "    <tr>\n",
       "      <th>0</th>\n",
       "      <td>789</td>\n",
       "      <td>1985.0</td>\n",
       "      <td>1.0</td>\n",
       "      <td>-2.289</td>\n",
       "      <td>3.178</td>\n",
       "      <td>0.444</td>\n",
       "      <td>12.3</td>\n",
       "      <td>28.912</td>\n",
       "      <td>43.573</td>\n",
       "    </tr>\n",
       "    <tr>\n",
       "      <th>1</th>\n",
       "      <td>789</td>\n",
       "      <td>1985.0</td>\n",
       "      <td>2.0</td>\n",
       "      <td>-5.740</td>\n",
       "      <td>-0.410</td>\n",
       "      <td>-3.075</td>\n",
       "      <td>19.5</td>\n",
       "      <td>33.793</td>\n",
       "      <td>104.188</td>\n",
       "    </tr>\n",
       "    <tr>\n",
       "      <th>2</th>\n",
       "      <td>789</td>\n",
       "      <td>1985.0</td>\n",
       "      <td>3.0</td>\n",
       "      <td>3.770</td>\n",
       "      <td>9.130</td>\n",
       "      <td>6.450</td>\n",
       "      <td>36.8</td>\n",
       "      <td>24.751</td>\n",
       "      <td>82.772</td>\n",
       "    </tr>\n",
       "    <tr>\n",
       "      <th>3</th>\n",
       "      <td>789</td>\n",
       "      <td>1985.0</td>\n",
       "      <td>4.0</td>\n",
       "      <td>8.230</td>\n",
       "      <td>12.450</td>\n",
       "      <td>10.340</td>\n",
       "      <td>14.4</td>\n",
       "      <td>32.975</td>\n",
       "      <td>26.195</td>\n",
       "    </tr>\n",
       "    <tr>\n",
       "      <th>4</th>\n",
       "      <td>789</td>\n",
       "      <td>1985.0</td>\n",
       "      <td>5.0</td>\n",
       "      <td>-1.380</td>\n",
       "      <td>2.520</td>\n",
       "      <td>0.570</td>\n",
       "      <td>25.3</td>\n",
       "      <td>48.912</td>\n",
       "      <td>88.562</td>\n",
       "    </tr>\n",
       "  </tbody>\n",
       "</table>\n",
       "</div>"
      ],
      "text/plain": [
       "   ucs   annee  decade   Tmin    Tmax    Tmoy  Rain      RG       im\n",
       "0  789  1985.0     1.0 -2.289   3.178   0.444  12.3  28.912   43.573\n",
       "1  789  1985.0     2.0 -5.740  -0.410  -3.075  19.5  33.793  104.188\n",
       "2  789  1985.0     3.0  3.770   9.130   6.450  36.8  24.751   82.772\n",
       "3  789  1985.0     4.0  8.230  12.450  10.340  14.4  32.975   26.195\n",
       "4  789  1985.0     5.0 -1.380   2.520   0.570  25.3  48.912   88.562"
      ]
     },
     "execution_count": 53,
     "metadata": {},
     "output_type": "execute_result"
    }
   ],
   "source": [
    "df.head()"
   ]
  },
  {
   "cell_type": "code",
   "execution_count": 54,
   "id": "22fb10df-1fa0-43cd-848f-9a1166e3ae7a",
   "metadata": {},
   "outputs": [
    {
     "data": {
      "text/plain": [
       "(18693829, 9)"
      ]
     },
     "execution_count": 54,
     "metadata": {},
     "output_type": "execute_result"
    }
   ],
   "source": [
    "df.shape"
   ]
  },
  {
   "cell_type": "code",
   "execution_count": 55,
   "id": "393d0574-3953-4287-aa94-f679ba6581ba",
   "metadata": {},
   "outputs": [
    {
     "data": {
      "text/plain": [
       "ucs            0\n",
       "annee      20262\n",
       "decade     20262\n",
       "Tmin      126008\n",
       "Tmax      126008\n",
       "Tmoy      126008\n",
       "Rain      126008\n",
       "RG        126008\n",
       "im        126008\n",
       "dtype: int64"
      ]
     },
     "execution_count": 55,
     "metadata": {},
     "output_type": "execute_result"
    }
   ],
   "source": [
    "df.isnull().sum()"
   ]
  },
  {
   "cell_type": "markdown",
   "id": "b2eeafe3-c471-403b-bf13-c5246ac06bd2",
   "metadata": {},
   "source": [
    "### Mean 10 years per ucs"
   ]
  },
  {
   "cell_type": "code",
   "execution_count": 68,
   "id": "5febd5c4-7a3d-4eb0-827d-b76698a74fbb",
   "metadata": {},
   "outputs": [
    {
     "data": {
      "text/html": [
       "<div>\n",
       "<style scoped>\n",
       "    .dataframe tbody tr th:only-of-type {\n",
       "        vertical-align: middle;\n",
       "    }\n",
       "\n",
       "    .dataframe tbody tr th {\n",
       "        vertical-align: top;\n",
       "    }\n",
       "\n",
       "    .dataframe thead th {\n",
       "        text-align: right;\n",
       "    }\n",
       "</style>\n",
       "<table border=\"1\" class=\"dataframe\">\n",
       "  <thead>\n",
       "    <tr style=\"text-align: right;\">\n",
       "      <th></th>\n",
       "      <th>ucs</th>\n",
       "      <th>annee</th>\n",
       "      <th>decade</th>\n",
       "      <th>Tmin</th>\n",
       "      <th>Tmax</th>\n",
       "      <th>Tmoy</th>\n",
       "      <th>Rain</th>\n",
       "      <th>RG</th>\n",
       "      <th>im</th>\n",
       "    </tr>\n",
       "  </thead>\n",
       "  <tbody>\n",
       "    <tr>\n",
       "      <th>0</th>\n",
       "      <td>789</td>\n",
       "      <td>1985.0</td>\n",
       "      <td>1.0</td>\n",
       "      <td>-2.289</td>\n",
       "      <td>3.178</td>\n",
       "      <td>0.444</td>\n",
       "      <td>12.3</td>\n",
       "      <td>28.912</td>\n",
       "      <td>43.573</td>\n",
       "    </tr>\n",
       "    <tr>\n",
       "      <th>1</th>\n",
       "      <td>789</td>\n",
       "      <td>1985.0</td>\n",
       "      <td>2.0</td>\n",
       "      <td>-5.740</td>\n",
       "      <td>-0.410</td>\n",
       "      <td>-3.075</td>\n",
       "      <td>19.5</td>\n",
       "      <td>33.793</td>\n",
       "      <td>104.188</td>\n",
       "    </tr>\n",
       "    <tr>\n",
       "      <th>2</th>\n",
       "      <td>789</td>\n",
       "      <td>1985.0</td>\n",
       "      <td>3.0</td>\n",
       "      <td>3.770</td>\n",
       "      <td>9.130</td>\n",
       "      <td>6.450</td>\n",
       "      <td>36.8</td>\n",
       "      <td>24.751</td>\n",
       "      <td>82.772</td>\n",
       "    </tr>\n",
       "    <tr>\n",
       "      <th>3</th>\n",
       "      <td>789</td>\n",
       "      <td>1985.0</td>\n",
       "      <td>4.0</td>\n",
       "      <td>8.230</td>\n",
       "      <td>12.450</td>\n",
       "      <td>10.340</td>\n",
       "      <td>14.4</td>\n",
       "      <td>32.975</td>\n",
       "      <td>26.195</td>\n",
       "    </tr>\n",
       "    <tr>\n",
       "      <th>4</th>\n",
       "      <td>789</td>\n",
       "      <td>1985.0</td>\n",
       "      <td>5.0</td>\n",
       "      <td>-1.380</td>\n",
       "      <td>2.520</td>\n",
       "      <td>0.570</td>\n",
       "      <td>25.3</td>\n",
       "      <td>48.912</td>\n",
       "      <td>88.562</td>\n",
       "    </tr>\n",
       "    <tr>\n",
       "      <th>...</th>\n",
       "      <td>...</td>\n",
       "      <td>...</td>\n",
       "      <td>...</td>\n",
       "      <td>...</td>\n",
       "      <td>...</td>\n",
       "      <td>...</td>\n",
       "      <td>...</td>\n",
       "      <td>...</td>\n",
       "      <td>...</td>\n",
       "    </tr>\n",
       "    <tr>\n",
       "      <th>18429805</th>\n",
       "      <td>998</td>\n",
       "      <td>1985.0</td>\n",
       "      <td>1.0</td>\n",
       "      <td>-4.389</td>\n",
       "      <td>1.033</td>\n",
       "      <td>-1.678</td>\n",
       "      <td>7.3</td>\n",
       "      <td>39.908</td>\n",
       "      <td>32.455</td>\n",
       "    </tr>\n",
       "    <tr>\n",
       "      <th>18429806</th>\n",
       "      <td>998</td>\n",
       "      <td>1985.0</td>\n",
       "      <td>2.0</td>\n",
       "      <td>-7.950</td>\n",
       "      <td>-1.160</td>\n",
       "      <td>-4.555</td>\n",
       "      <td>17.6</td>\n",
       "      <td>37.915</td>\n",
       "      <td>119.596</td>\n",
       "    </tr>\n",
       "    <tr>\n",
       "      <th>18429807</th>\n",
       "      <td>998</td>\n",
       "      <td>1985.0</td>\n",
       "      <td>3.0</td>\n",
       "      <td>2.750</td>\n",
       "      <td>8.140</td>\n",
       "      <td>5.445</td>\n",
       "      <td>42.7</td>\n",
       "      <td>26.083</td>\n",
       "      <td>102.292</td>\n",
       "    </tr>\n",
       "    <tr>\n",
       "      <th>18429808</th>\n",
       "      <td>998</td>\n",
       "      <td>1985.0</td>\n",
       "      <td>4.0</td>\n",
       "      <td>7.810</td>\n",
       "      <td>11.320</td>\n",
       "      <td>9.565</td>\n",
       "      <td>13.4</td>\n",
       "      <td>42.318</td>\n",
       "      <td>25.341</td>\n",
       "    </tr>\n",
       "    <tr>\n",
       "      <th>18429809</th>\n",
       "      <td>998</td>\n",
       "      <td>1985.0</td>\n",
       "      <td>5.0</td>\n",
       "      <td>-1.100</td>\n",
       "      <td>2.390</td>\n",
       "      <td>0.645</td>\n",
       "      <td>22.3</td>\n",
       "      <td>60.431</td>\n",
       "      <td>77.511</td>\n",
       "    </tr>\n",
       "  </tbody>\n",
       "</table>\n",
       "<p>990 rows × 9 columns</p>\n",
       "</div>"
      ],
      "text/plain": [
       "          ucs   annee  decade   Tmin    Tmax    Tmoy  Rain      RG       im\n",
       "0         789  1985.0     1.0 -2.289   3.178   0.444  12.3  28.912   43.573\n",
       "1         789  1985.0     2.0 -5.740  -0.410  -3.075  19.5  33.793  104.188\n",
       "2         789  1985.0     3.0  3.770   9.130   6.450  36.8  24.751   82.772\n",
       "3         789  1985.0     4.0  8.230  12.450  10.340  14.4  32.975   26.195\n",
       "4         789  1985.0     5.0 -1.380   2.520   0.570  25.3  48.912   88.562\n",
       "...       ...     ...     ...    ...     ...     ...   ...     ...      ...\n",
       "18429805  998  1985.0     1.0 -4.389   1.033  -1.678   7.3  39.908   32.455\n",
       "18429806  998  1985.0     2.0 -7.950  -1.160  -4.555  17.6  37.915  119.596\n",
       "18429807  998  1985.0     3.0  2.750   8.140   5.445  42.7  26.083  102.292\n",
       "18429808  998  1985.0     4.0  7.810  11.320   9.565  13.4  42.318   25.341\n",
       "18429809  998  1985.0     5.0 -1.100   2.390   0.645  22.3  60.431   77.511\n",
       "\n",
       "[990 rows x 9 columns]"
      ]
     },
     "execution_count": 68,
     "metadata": {},
     "output_type": "execute_result"
    }
   ],
   "source": [
    "df.groupby([\"ucs\"]).head()#.sample(n=10, random_state=1).mean()"
   ]
  },
  {
   "cell_type": "markdown",
   "id": "58a7241d-b927-413c-b98d-89ffed650124",
   "metadata": {},
   "source": [
    "### Drop  N/A values"
   ]
  },
  {
   "cell_type": "code",
   "execution_count": 56,
   "id": "51ef094f-4010-43ad-a389-d1e72d52ca23",
   "metadata": {},
   "outputs": [],
   "source": [
    "df = df.dropna(subset= [\"decade\", \"annee\"])"
   ]
  },
  {
   "cell_type": "code",
   "execution_count": 57,
   "id": "4db4cf5c-ac1f-49c9-92e1-96f5e747272e",
   "metadata": {},
   "outputs": [
    {
     "data": {
      "text/plain": [
       "ucs            0\n",
       "annee          0\n",
       "decade         0\n",
       "Tmin      105746\n",
       "Tmax      105746\n",
       "Tmoy      105746\n",
       "Rain      105746\n",
       "RG        105746\n",
       "im        105746\n",
       "dtype: int64"
      ]
     },
     "execution_count": 57,
     "metadata": {},
     "output_type": "execute_result"
    }
   ],
   "source": [
    "df.isnull().sum()"
   ]
  },
  {
   "cell_type": "markdown",
   "id": "f31d6f9c-d0e4-4c73-9232-67a8577778ab",
   "metadata": {},
   "source": [
    "### Preprocess and sort the dataframe"
   ]
  },
  {
   "cell_type": "code",
   "execution_count": 46,
   "id": "57df57af-8e65-4c84-8afa-bbab3d03113e",
   "metadata": {},
   "outputs": [],
   "source": [
    "df[\"annee\"] = df[\"annee\"].astype(\"int64\")\n",
    "df[\"decade\"] = df[\"decade\"].astype(\"int64\")"
   ]
  },
  {
   "cell_type": "code",
   "execution_count": 59,
   "id": "b0038dcc-2d1d-431c-937f-4c5a8348fd7d",
   "metadata": {},
   "outputs": [
    {
     "data": {
      "text/html": [
       "<div>\n",
       "<style scoped>\n",
       "    .dataframe tbody tr th:only-of-type {\n",
       "        vertical-align: middle;\n",
       "    }\n",
       "\n",
       "    .dataframe tbody tr th {\n",
       "        vertical-align: top;\n",
       "    }\n",
       "\n",
       "    .dataframe thead th {\n",
       "        text-align: right;\n",
       "    }\n",
       "</style>\n",
       "<table border=\"1\" class=\"dataframe\">\n",
       "  <thead>\n",
       "    <tr style=\"text-align: right;\">\n",
       "      <th></th>\n",
       "      <th>ucs</th>\n",
       "      <th>annee</th>\n",
       "      <th>decade</th>\n",
       "      <th>Tmin</th>\n",
       "      <th>Tmax</th>\n",
       "      <th>Tmoy</th>\n",
       "      <th>Rain</th>\n",
       "      <th>RG</th>\n",
       "      <th>im</th>\n",
       "    </tr>\n",
       "  </thead>\n",
       "  <tbody>\n",
       "    <tr>\n",
       "      <th>count</th>\n",
       "      <td>1.867e+07</td>\n",
       "      <td>1.867e+07</td>\n",
       "      <td>1.867e+07</td>\n",
       "      <td>1.857e+07</td>\n",
       "      <td>1.857e+07</td>\n",
       "      <td>1.857e+07</td>\n",
       "      <td>1.857e+07</td>\n",
       "      <td>1.857e+07</td>\n",
       "      <td>1.857e+07</td>\n",
       "    </tr>\n",
       "    <tr>\n",
       "      <th>mean</th>\n",
       "      <td>1.054e+03</td>\n",
       "      <td>1.999e+03</td>\n",
       "      <td>1.900e+01</td>\n",
       "      <td>8.249e+00</td>\n",
       "      <td>1.464e+01</td>\n",
       "      <td>1.145e+01</td>\n",
       "      <td>2.578e+01</td>\n",
       "      <td>1.085e+02</td>\n",
       "      <td>4.798e+01</td>\n",
       "    </tr>\n",
       "    <tr>\n",
       "      <th>std</th>\n",
       "      <td>2.229e+02</td>\n",
       "      <td>8.626e+00</td>\n",
       "      <td>1.068e+01</td>\n",
       "      <td>4.365e+00</td>\n",
       "      <td>5.607e+00</td>\n",
       "      <td>4.893e+00</td>\n",
       "      <td>2.499e+01</td>\n",
       "      <td>6.581e+01</td>\n",
       "      <td>4.897e+01</td>\n",
       "    </tr>\n",
       "    <tr>\n",
       "      <th>min</th>\n",
       "      <td>6.400e+02</td>\n",
       "      <td>1.984e+03</td>\n",
       "      <td>1.000e+00</td>\n",
       "      <td>-8.760e+00</td>\n",
       "      <td>-5.380e+00</td>\n",
       "      <td>-7.020e+00</td>\n",
       "      <td>0.000e+00</td>\n",
       "      <td>7.170e+00</td>\n",
       "      <td>0.000e+00</td>\n",
       "    </tr>\n",
       "    <tr>\n",
       "      <th>25%</th>\n",
       "      <td>8.880e+02</td>\n",
       "      <td>1.991e+03</td>\n",
       "      <td>1.000e+01</td>\n",
       "      <td>5.040e+00</td>\n",
       "      <td>1.043e+01</td>\n",
       "      <td>7.855e+00</td>\n",
       "      <td>6.800e+00</td>\n",
       "      <td>4.684e+01</td>\n",
       "      <td>1.144e+01</td>\n",
       "    </tr>\n",
       "    <tr>\n",
       "      <th>50%</th>\n",
       "      <td>1.080e+03</td>\n",
       "      <td>1.999e+03</td>\n",
       "      <td>1.900e+01</td>\n",
       "      <td>8.290e+00</td>\n",
       "      <td>1.425e+01</td>\n",
       "      <td>1.118e+01</td>\n",
       "      <td>1.890e+01</td>\n",
       "      <td>1.043e+02</td>\n",
       "      <td>3.297e+01</td>\n",
       "    </tr>\n",
       "    <tr>\n",
       "      <th>75%</th>\n",
       "      <td>1.222e+03</td>\n",
       "      <td>2.006e+03</td>\n",
       "      <td>2.800e+01</td>\n",
       "      <td>1.191e+01</td>\n",
       "      <td>1.910e+01</td>\n",
       "      <td>1.554e+01</td>\n",
       "      <td>3.720e+01</td>\n",
       "      <td>1.615e+02</td>\n",
       "      <td>6.876e+01</td>\n",
       "    </tr>\n",
       "    <tr>\n",
       "      <th>max</th>\n",
       "      <td>1.610e+03</td>\n",
       "      <td>2.013e+03</td>\n",
       "      <td>3.700e+01</td>\n",
       "      <td>2.069e+01</td>\n",
       "      <td>3.117e+01</td>\n",
       "      <td>2.530e+01</td>\n",
       "      <td>2.404e+02</td>\n",
       "      <td>2.990e+02</td>\n",
       "      <td>5.007e+02</td>\n",
       "    </tr>\n",
       "  </tbody>\n",
       "</table>\n",
       "</div>"
      ],
      "text/plain": [
       "             ucs      annee     decade       Tmin       Tmax       Tmoy  \\\n",
       "count  1.867e+07  1.867e+07  1.867e+07  1.857e+07  1.857e+07  1.857e+07   \n",
       "mean   1.054e+03  1.999e+03  1.900e+01  8.249e+00  1.464e+01  1.145e+01   \n",
       "std    2.229e+02  8.626e+00  1.068e+01  4.365e+00  5.607e+00  4.893e+00   \n",
       "min    6.400e+02  1.984e+03  1.000e+00 -8.760e+00 -5.380e+00 -7.020e+00   \n",
       "25%    8.880e+02  1.991e+03  1.000e+01  5.040e+00  1.043e+01  7.855e+00   \n",
       "50%    1.080e+03  1.999e+03  1.900e+01  8.290e+00  1.425e+01  1.118e+01   \n",
       "75%    1.222e+03  2.006e+03  2.800e+01  1.191e+01  1.910e+01  1.554e+01   \n",
       "max    1.610e+03  2.013e+03  3.700e+01  2.069e+01  3.117e+01  2.530e+01   \n",
       "\n",
       "            Rain         RG         im  \n",
       "count  1.857e+07  1.857e+07  1.857e+07  \n",
       "mean   2.578e+01  1.085e+02  4.798e+01  \n",
       "std    2.499e+01  6.581e+01  4.897e+01  \n",
       "min    0.000e+00  7.170e+00  0.000e+00  \n",
       "25%    6.800e+00  4.684e+01  1.144e+01  \n",
       "50%    1.890e+01  1.043e+02  3.297e+01  \n",
       "75%    3.720e+01  1.615e+02  6.876e+01  \n",
       "max    2.404e+02  2.990e+02  5.007e+02  "
      ]
     },
     "execution_count": 59,
     "metadata": {},
     "output_type": "execute_result"
    }
   ],
   "source": [
    "df.describe(include= \"all\")"
   ]
  },
  {
   "cell_type": "code",
   "execution_count": null,
   "id": "2765ae05-69ae-4bd8-bbba-18ff383b9e95",
   "metadata": {},
   "outputs": [],
   "source": [
    "df.sort_values(by=[\"annee\",\"decade\"]).head()"
   ]
  },
  {
   "cell_type": "markdown",
   "id": "ddfc80c4-5ff1-421c-bc06-2bf88898627a",
   "metadata": {},
   "source": [
    "## Analysis of annual valuations"
   ]
  },
  {
   "cell_type": "code",
   "execution_count": null,
   "id": "19b34282-a10d-436a-9b2c-b7388cba4e1e",
   "metadata": {},
   "outputs": [],
   "source": [
    "df = valorisation_annuelle"
   ]
  },
  {
   "cell_type": "code",
   "execution_count": null,
   "id": "15a96c3f-bdbb-4e8e-a4db-7a43a0b52380",
   "metadata": {},
   "outputs": [],
   "source": [
    "valorisation_annuelle.head()"
   ]
  },
  {
   "cell_type": "code",
   "execution_count": null,
   "id": "e483bad8-897e-47ae-bac6-da03054eccc8",
   "metadata": {},
   "outputs": [],
   "source": [
    "valorisation_annuelle.describe()"
   ]
  },
  {
   "cell_type": "code",
   "execution_count": null,
   "id": "8640038a-55db-4b31-83fa-313c376d40d8",
   "metadata": {},
   "outputs": [],
   "source": [
    "print(valorisation_annuelle.shape)\n",
    "print(valorisation_annuelle.columns)\n",
    "print(valorisation_annuelle.info())"
   ]
  },
  {
   "cell_type": "code",
   "execution_count": null,
   "id": "ca87bcab-d2e2-43e2-9442-9c7e0c438b17",
   "metadata": {},
   "outputs": [],
   "source": [
    "for column in valorisation_annuelle.columns:\n",
    "    if column in croissance_et_climat_decadaires.columns:\n",
    "        print(column)"
   ]
  },
  {
   "cell_type": "markdown",
   "id": "bfecc867-6608-4a04-8e80-3cd1aca1e1bd",
   "metadata": {},
   "source": [
    "## Preprocessing"
   ]
  },
  {
   "cell_type": "code",
   "execution_count": null,
   "id": "65c30216-f96a-4111-9372-f6ee3f97c364",
   "metadata": {},
   "outputs": [],
   "source": [
    "X = croissance_et_climat_decadaires.loc[:, [\"annee\",\"decade\",\"Tmin\",\"Tmax\",\"Tmoy\",\"Rain\",\"RG\",\"im\"]].values.astype(float)\n",
    "y = valorisation_annuelle.loc[:, [\"cumul_croissance\"]].values.astype(float)"
   ]
  }
 ],
 "metadata": {
  "kernelspec": {
   "display_name": "Python 3 (ipykernel)",
   "language": "python",
   "name": "python3"
  },
  "language_info": {
   "codemirror_mode": {
    "name": "ipython",
    "version": 3
   },
   "file_extension": ".py",
   "mimetype": "text/x-python",
   "name": "python",
   "nbconvert_exporter": "python",
   "pygments_lexer": "ipython3",
   "version": "3.9.13"
  },
  "toc-autonumbering": false,
  "toc-showmarkdowntxt": true
 },
 "nbformat": 4,
 "nbformat_minor": 5
}
