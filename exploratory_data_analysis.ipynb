{
 "cells": [
  {
   "cell_type": "markdown",
   "id": "1792fac5-cb8b-431e-9c3b-a051863fc8fe",
   "metadata": {},
   "source": [
    "# Exploratory Data Analysis"
   ]
  },
  {
   "cell_type": "code",
   "execution_count": 1,
   "id": "7148228e-53ff-44b0-88d3-733148295ea7",
   "metadata": {},
   "outputs": [],
   "source": [
    "# Importing the libraries\n",
    "\n",
    "import numpy as np\n",
    "import matplotlib.pyplot as plt\n",
    "import pandas as pd"
   ]
  },
  {
   "cell_type": "code",
   "execution_count": 2,
   "id": "96c26d0a-feee-4bd9-8ac3-43079a35d915",
   "metadata": {},
   "outputs": [],
   "source": [
    "# Define settings\n",
    "import os\n",
    "\n",
    "pd.set_option(\"display.precision\", 3)\n",
    "data_dir_path = os.getcwd() + '/dataverse_files/'"
   ]
  },
  {
   "cell_type": "code",
   "execution_count": 3,
   "id": "c5ee2136-b7e4-4ae3-a6ca-e22fee6f175b",
   "metadata": {},
   "outputs": [],
   "source": [
    "# Importing data\n",
    "import pyreadr\n",
    "\n",
    "croissance_et_climat_decadaires = pyreadr.read_r(data_dir_path + \"croissance_et_climat_decadaires.rds\" ).popitem()[1]\n",
    "valorisation_annuelle = pyreadr.read_r(data_dir_path + \"valorisation_annuelle.rds\" ).popitem()[1]"
   ]
  },
  {
   "cell_type": "markdown",
   "id": "c2bb71e4-730d-46b7-905c-fda6ab9a5932",
   "metadata": {},
   "source": [
    "## Analysis of growths and decadal climates"
   ]
  },
  {
   "cell_type": "code",
   "execution_count": 121,
   "id": "7124a8f0-c748-4294-af8e-265c6deb12fc",
   "metadata": {},
   "outputs": [],
   "source": [
    "df = croissance_et_climat_decadaires"
   ]
  },
  {
   "cell_type": "code",
   "execution_count": 122,
   "id": "c5652e82-0e62-4809-85dd-632b0dfc3d95",
   "metadata": {},
   "outputs": [
    {
     "data": {
      "text/html": [
       "<div>\n",
       "<style scoped>\n",
       "    .dataframe tbody tr th:only-of-type {\n",
       "        vertical-align: middle;\n",
       "    }\n",
       "\n",
       "    .dataframe tbody tr th {\n",
       "        vertical-align: top;\n",
       "    }\n",
       "\n",
       "    .dataframe thead th {\n",
       "        text-align: right;\n",
       "    }\n",
       "</style>\n",
       "<table border=\"1\" class=\"dataframe\">\n",
       "  <thead>\n",
       "    <tr style=\"text-align: right;\">\n",
       "      <th></th>\n",
       "      <th>ucs</th>\n",
       "      <th>safran</th>\n",
       "      <th>sol</th>\n",
       "      <th>type_de_prairie</th>\n",
       "      <th>gestion</th>\n",
       "      <th>annee</th>\n",
       "      <th>decade</th>\n",
       "      <th>Tmin</th>\n",
       "      <th>Tmax</th>\n",
       "      <th>Tmoy</th>\n",
       "      <th>Rain</th>\n",
       "      <th>RG</th>\n",
       "      <th>im</th>\n",
       "      <th>croissance</th>\n",
       "    </tr>\n",
       "  </thead>\n",
       "  <tbody>\n",
       "    <tr>\n",
       "      <th>0</th>\n",
       "      <td>789</td>\n",
       "      <td>2131</td>\n",
       "      <td>330343</td>\n",
       "      <td>tp3</td>\n",
       "      <td>20</td>\n",
       "      <td>1985.0</td>\n",
       "      <td>1.0</td>\n",
       "      <td>-2.289</td>\n",
       "      <td>3.178</td>\n",
       "      <td>0.444</td>\n",
       "      <td>12.3</td>\n",
       "      <td>28.912</td>\n",
       "      <td>43.573</td>\n",
       "      <td>0.032</td>\n",
       "    </tr>\n",
       "    <tr>\n",
       "      <th>1</th>\n",
       "      <td>789</td>\n",
       "      <td>2131</td>\n",
       "      <td>330343</td>\n",
       "      <td>tp3</td>\n",
       "      <td>20</td>\n",
       "      <td>1985.0</td>\n",
       "      <td>2.0</td>\n",
       "      <td>-5.740</td>\n",
       "      <td>-0.410</td>\n",
       "      <td>-3.075</td>\n",
       "      <td>19.5</td>\n",
       "      <td>33.793</td>\n",
       "      <td>104.188</td>\n",
       "      <td>0.000</td>\n",
       "    </tr>\n",
       "    <tr>\n",
       "      <th>2</th>\n",
       "      <td>789</td>\n",
       "      <td>2131</td>\n",
       "      <td>330343</td>\n",
       "      <td>tp3</td>\n",
       "      <td>20</td>\n",
       "      <td>1985.0</td>\n",
       "      <td>3.0</td>\n",
       "      <td>3.770</td>\n",
       "      <td>9.130</td>\n",
       "      <td>6.450</td>\n",
       "      <td>36.8</td>\n",
       "      <td>24.751</td>\n",
       "      <td>82.772</td>\n",
       "      <td>0.046</td>\n",
       "    </tr>\n",
       "    <tr>\n",
       "      <th>3</th>\n",
       "      <td>789</td>\n",
       "      <td>2131</td>\n",
       "      <td>330343</td>\n",
       "      <td>tp3</td>\n",
       "      <td>20</td>\n",
       "      <td>1985.0</td>\n",
       "      <td>4.0</td>\n",
       "      <td>8.230</td>\n",
       "      <td>12.450</td>\n",
       "      <td>10.340</td>\n",
       "      <td>14.4</td>\n",
       "      <td>32.975</td>\n",
       "      <td>26.195</td>\n",
       "      <td>0.075</td>\n",
       "    </tr>\n",
       "    <tr>\n",
       "      <th>4</th>\n",
       "      <td>789</td>\n",
       "      <td>2131</td>\n",
       "      <td>330343</td>\n",
       "      <td>tp3</td>\n",
       "      <td>20</td>\n",
       "      <td>1985.0</td>\n",
       "      <td>5.0</td>\n",
       "      <td>-1.380</td>\n",
       "      <td>2.520</td>\n",
       "      <td>0.570</td>\n",
       "      <td>25.3</td>\n",
       "      <td>48.912</td>\n",
       "      <td>88.562</td>\n",
       "      <td>0.015</td>\n",
       "    </tr>\n",
       "  </tbody>\n",
       "</table>\n",
       "</div>"
      ],
      "text/plain": [
       "   ucs  safran     sol type_de_prairie  gestion   annee  decade   Tmin  \\\n",
       "0  789    2131  330343             tp3       20  1985.0     1.0 -2.289   \n",
       "1  789    2131  330343             tp3       20  1985.0     2.0 -5.740   \n",
       "2  789    2131  330343             tp3       20  1985.0     3.0  3.770   \n",
       "3  789    2131  330343             tp3       20  1985.0     4.0  8.230   \n",
       "4  789    2131  330343             tp3       20  1985.0     5.0 -1.380   \n",
       "\n",
       "     Tmax    Tmoy  Rain      RG       im  croissance  \n",
       "0   3.178   0.444  12.3  28.912   43.573       0.032  \n",
       "1  -0.410  -3.075  19.5  33.793  104.188       0.000  \n",
       "2   9.130   6.450  36.8  24.751   82.772       0.046  \n",
       "3  12.450  10.340  14.4  32.975   26.195       0.075  \n",
       "4   2.520   0.570  25.3  48.912   88.562       0.015  "
      ]
     },
     "execution_count": 122,
     "metadata": {},
     "output_type": "execute_result"
    }
   ],
   "source": [
    "df.head()"
   ]
  },
  {
   "cell_type": "code",
   "execution_count": 123,
   "id": "52dba084-6200-4e47-abff-fbccbae1f928",
   "metadata": {},
   "outputs": [
    {
     "data": {
      "text/html": [
       "<div>\n",
       "<style scoped>\n",
       "    .dataframe tbody tr th:only-of-type {\n",
       "        vertical-align: middle;\n",
       "    }\n",
       "\n",
       "    .dataframe tbody tr th {\n",
       "        vertical-align: top;\n",
       "    }\n",
       "\n",
       "    .dataframe thead th {\n",
       "        text-align: right;\n",
       "    }\n",
       "</style>\n",
       "<table border=\"1\" class=\"dataframe\">\n",
       "  <thead>\n",
       "    <tr style=\"text-align: right;\">\n",
       "      <th></th>\n",
       "      <th>ucs</th>\n",
       "      <th>safran</th>\n",
       "      <th>sol</th>\n",
       "    </tr>\n",
       "  </thead>\n",
       "  <tbody>\n",
       "    <tr>\n",
       "      <th>ucs</th>\n",
       "      <td>1.000</td>\n",
       "      <td>0.937</td>\n",
       "      <td>0.085</td>\n",
       "    </tr>\n",
       "    <tr>\n",
       "      <th>safran</th>\n",
       "      <td>0.937</td>\n",
       "      <td>1.000</td>\n",
       "      <td>0.032</td>\n",
       "    </tr>\n",
       "    <tr>\n",
       "      <th>sol</th>\n",
       "      <td>0.085</td>\n",
       "      <td>0.032</td>\n",
       "      <td>1.000</td>\n",
       "    </tr>\n",
       "  </tbody>\n",
       "</table>\n",
       "</div>"
      ],
      "text/plain": [
       "          ucs  safran    sol\n",
       "ucs     1.000   0.937  0.085\n",
       "safran  0.937   1.000  0.032\n",
       "sol     0.085   0.032  1.000"
      ]
     },
     "execution_count": 123,
     "metadata": {},
     "output_type": "execute_result"
    }
   ],
   "source": [
    "df[[\"ucs\", \"safran\", \"sol\"]].corr()"
   ]
  },
  {
   "cell_type": "code",
   "execution_count": 124,
   "id": "9753eb3b-844a-4d03-8624-bce0d9b6fe99",
   "metadata": {},
   "outputs": [
    {
     "name": "stdout",
     "output_type": "stream",
     "text": [
      "(18693829, 14)\n",
      "Index(['ucs', 'safran', 'sol', 'type_de_prairie', 'gestion', 'annee', 'decade',\n",
      "       'Tmin', 'Tmax', 'Tmoy', 'Rain', 'RG', 'im', 'croissance'],\n",
      "      dtype='object')\n",
      "<class 'pandas.core.frame.DataFrame'>\n",
      "RangeIndex: 18693829 entries, 0 to 18693828\n",
      "Data columns (total 14 columns):\n",
      " #   Column           Dtype  \n",
      "---  ------           -----  \n",
      " 0   ucs              int32  \n",
      " 1   safran           int32  \n",
      " 2   sol              int32  \n",
      " 3   type_de_prairie  object \n",
      " 4   gestion          int32  \n",
      " 5   annee            float64\n",
      " 6   decade           float64\n",
      " 7   Tmin             float64\n",
      " 8   Tmax             float64\n",
      " 9   Tmoy             float64\n",
      " 10  Rain             float64\n",
      " 11  RG               float64\n",
      " 12  im               float64\n",
      " 13  croissance       float64\n",
      "dtypes: float64(9), int32(4), object(1)\n",
      "memory usage: 1.7+ GB\n",
      "None\n"
     ]
    }
   ],
   "source": [
    "print(df.shape)\n",
    "print(df.columns)\n",
    "print(df.info())"
   ]
  },
  {
   "cell_type": "markdown",
   "id": "53c1898f-45fb-40b2-9ce9-4c91710c94b5",
   "metadata": {},
   "source": [
    "#### Define the columns used in the paper"
   ]
  },
  {
   "cell_type": "code",
   "execution_count": 125,
   "id": "e6fbe0d5-fbe9-4a13-9bd7-21d8f602ce56",
   "metadata": {},
   "outputs": [],
   "source": [
    "valuable_columns = [\"sol\", \"annee\",\"decade\",\"Tmin\",\"Tmax\",\"Tmoy\",\"Rain\",\"RG\",\"im\"]\n",
    "df = df[valuable_columns]"
   ]
  },
  {
   "cell_type": "code",
   "execution_count": 126,
   "id": "00c9cfa3-9f7d-4612-aa4d-ae3e49240e73",
   "metadata": {},
   "outputs": [
    {
     "data": {
      "text/html": [
       "<div>\n",
       "<style scoped>\n",
       "    .dataframe tbody tr th:only-of-type {\n",
       "        vertical-align: middle;\n",
       "    }\n",
       "\n",
       "    .dataframe tbody tr th {\n",
       "        vertical-align: top;\n",
       "    }\n",
       "\n",
       "    .dataframe thead th {\n",
       "        text-align: right;\n",
       "    }\n",
       "</style>\n",
       "<table border=\"1\" class=\"dataframe\">\n",
       "  <thead>\n",
       "    <tr style=\"text-align: right;\">\n",
       "      <th></th>\n",
       "      <th>sol</th>\n",
       "      <th>annee</th>\n",
       "      <th>decade</th>\n",
       "      <th>Tmin</th>\n",
       "      <th>Tmax</th>\n",
       "      <th>Tmoy</th>\n",
       "      <th>Rain</th>\n",
       "      <th>RG</th>\n",
       "      <th>im</th>\n",
       "    </tr>\n",
       "  </thead>\n",
       "  <tbody>\n",
       "    <tr>\n",
       "      <th>0</th>\n",
       "      <td>330343</td>\n",
       "      <td>1985.0</td>\n",
       "      <td>1.0</td>\n",
       "      <td>-2.289</td>\n",
       "      <td>3.178</td>\n",
       "      <td>0.444</td>\n",
       "      <td>12.3</td>\n",
       "      <td>28.912</td>\n",
       "      <td>43.573</td>\n",
       "    </tr>\n",
       "    <tr>\n",
       "      <th>1</th>\n",
       "      <td>330343</td>\n",
       "      <td>1985.0</td>\n",
       "      <td>2.0</td>\n",
       "      <td>-5.740</td>\n",
       "      <td>-0.410</td>\n",
       "      <td>-3.075</td>\n",
       "      <td>19.5</td>\n",
       "      <td>33.793</td>\n",
       "      <td>104.188</td>\n",
       "    </tr>\n",
       "    <tr>\n",
       "      <th>2</th>\n",
       "      <td>330343</td>\n",
       "      <td>1985.0</td>\n",
       "      <td>3.0</td>\n",
       "      <td>3.770</td>\n",
       "      <td>9.130</td>\n",
       "      <td>6.450</td>\n",
       "      <td>36.8</td>\n",
       "      <td>24.751</td>\n",
       "      <td>82.772</td>\n",
       "    </tr>\n",
       "    <tr>\n",
       "      <th>3</th>\n",
       "      <td>330343</td>\n",
       "      <td>1985.0</td>\n",
       "      <td>4.0</td>\n",
       "      <td>8.230</td>\n",
       "      <td>12.450</td>\n",
       "      <td>10.340</td>\n",
       "      <td>14.4</td>\n",
       "      <td>32.975</td>\n",
       "      <td>26.195</td>\n",
       "    </tr>\n",
       "    <tr>\n",
       "      <th>4</th>\n",
       "      <td>330343</td>\n",
       "      <td>1985.0</td>\n",
       "      <td>5.0</td>\n",
       "      <td>-1.380</td>\n",
       "      <td>2.520</td>\n",
       "      <td>0.570</td>\n",
       "      <td>25.3</td>\n",
       "      <td>48.912</td>\n",
       "      <td>88.562</td>\n",
       "    </tr>\n",
       "  </tbody>\n",
       "</table>\n",
       "</div>"
      ],
      "text/plain": [
       "      sol   annee  decade   Tmin    Tmax    Tmoy  Rain      RG       im\n",
       "0  330343  1985.0     1.0 -2.289   3.178   0.444  12.3  28.912   43.573\n",
       "1  330343  1985.0     2.0 -5.740  -0.410  -3.075  19.5  33.793  104.188\n",
       "2  330343  1985.0     3.0  3.770   9.130   6.450  36.8  24.751   82.772\n",
       "3  330343  1985.0     4.0  8.230  12.450  10.340  14.4  32.975   26.195\n",
       "4  330343  1985.0     5.0 -1.380   2.520   0.570  25.3  48.912   88.562"
      ]
     },
     "execution_count": 126,
     "metadata": {},
     "output_type": "execute_result"
    }
   ],
   "source": [
    "df.head()"
   ]
  },
  {
   "cell_type": "code",
   "execution_count": 127,
   "id": "22fb10df-1fa0-43cd-848f-9a1166e3ae7a",
   "metadata": {},
   "outputs": [
    {
     "data": {
      "text/plain": [
       "(18693829, 9)"
      ]
     },
     "execution_count": 127,
     "metadata": {},
     "output_type": "execute_result"
    }
   ],
   "source": [
    "df.shape"
   ]
  },
  {
   "cell_type": "code",
   "execution_count": 128,
   "id": "393d0574-3953-4287-aa94-f679ba6581ba",
   "metadata": {},
   "outputs": [
    {
     "data": {
      "text/plain": [
       "sol            0\n",
       "annee      20262\n",
       "decade     20262\n",
       "Tmin      126008\n",
       "Tmax      126008\n",
       "Tmoy      126008\n",
       "Rain      126008\n",
       "RG        126008\n",
       "im        126008\n",
       "dtype: int64"
      ]
     },
     "execution_count": 128,
     "metadata": {},
     "output_type": "execute_result"
    }
   ],
   "source": [
    "(df.isna() | df.isnull()).sum()"
   ]
  },
  {
   "cell_type": "markdown",
   "id": "b2eeafe3-c471-403b-bf13-c5246ac06bd2",
   "metadata": {},
   "source": [
    "### Mean 10 years per ucs"
   ]
  },
  {
   "cell_type": "code",
   "execution_count": 129,
   "id": "5febd5c4-7a3d-4eb0-827d-b76698a74fbb",
   "metadata": {},
   "outputs": [
    {
     "data": {
      "text/html": [
       "<div>\n",
       "<style scoped>\n",
       "    .dataframe tbody tr th:only-of-type {\n",
       "        vertical-align: middle;\n",
       "    }\n",
       "\n",
       "    .dataframe tbody tr th {\n",
       "        vertical-align: top;\n",
       "    }\n",
       "\n",
       "    .dataframe thead th {\n",
       "        text-align: right;\n",
       "    }\n",
       "</style>\n",
       "<table border=\"1\" class=\"dataframe\">\n",
       "  <thead>\n",
       "    <tr style=\"text-align: right;\">\n",
       "      <th></th>\n",
       "      <th></th>\n",
       "      <th>decade</th>\n",
       "      <th>Tmin</th>\n",
       "      <th>Tmax</th>\n",
       "      <th>Tmoy</th>\n",
       "      <th>Rain</th>\n",
       "      <th>RG</th>\n",
       "      <th>im</th>\n",
       "    </tr>\n",
       "    <tr>\n",
       "      <th>sol</th>\n",
       "      <th>annee</th>\n",
       "      <th></th>\n",
       "      <th></th>\n",
       "      <th></th>\n",
       "      <th></th>\n",
       "      <th></th>\n",
       "      <th></th>\n",
       "      <th></th>\n",
       "    </tr>\n",
       "  </thead>\n",
       "  <tbody>\n",
       "    <tr>\n",
       "      <th rowspan=\"5\" valign=\"top\">330343</th>\n",
       "      <th>1984.0</th>\n",
       "      <td>19.1</td>\n",
       "      <td>8.129</td>\n",
       "      <td>15.779</td>\n",
       "      <td>11.954</td>\n",
       "      <td>12.37</td>\n",
       "      <td>129.508</td>\n",
       "      <td>21.140</td>\n",
       "    </tr>\n",
       "    <tr>\n",
       "      <th>1985.0</th>\n",
       "      <td>21.7</td>\n",
       "      <td>8.623</td>\n",
       "      <td>14.116</td>\n",
       "      <td>11.369</td>\n",
       "      <td>22.21</td>\n",
       "      <td>94.708</td>\n",
       "      <td>40.904</td>\n",
       "    </tr>\n",
       "    <tr>\n",
       "      <th>1986.0</th>\n",
       "      <td>12.5</td>\n",
       "      <td>4.724</td>\n",
       "      <td>11.072</td>\n",
       "      <td>7.898</td>\n",
       "      <td>14.75</td>\n",
       "      <td>95.614</td>\n",
       "      <td>33.283</td>\n",
       "    </tr>\n",
       "    <tr>\n",
       "      <th>1987.0</th>\n",
       "      <td>11.5</td>\n",
       "      <td>4.307</td>\n",
       "      <td>10.641</td>\n",
       "      <td>7.474</td>\n",
       "      <td>16.61</td>\n",
       "      <td>104.955</td>\n",
       "      <td>34.164</td>\n",
       "    </tr>\n",
       "    <tr>\n",
       "      <th>1988.0</th>\n",
       "      <td>23.5</td>\n",
       "      <td>9.671</td>\n",
       "      <td>16.800</td>\n",
       "      <td>13.236</td>\n",
       "      <td>16.19</td>\n",
       "      <td>123.197</td>\n",
       "      <td>24.190</td>\n",
       "    </tr>\n",
       "  </tbody>\n",
       "</table>\n",
       "</div>"
      ],
      "text/plain": [
       "               decade   Tmin    Tmax    Tmoy   Rain       RG      im\n",
       "sol    annee                                                        \n",
       "330343 1984.0    19.1  8.129  15.779  11.954  12.37  129.508  21.140\n",
       "       1985.0    21.7  8.623  14.116  11.369  22.21   94.708  40.904\n",
       "       1986.0    12.5  4.724  11.072   7.898  14.75   95.614  33.283\n",
       "       1987.0    11.5  4.307  10.641   7.474  16.61  104.955  34.164\n",
       "       1988.0    23.5  9.671  16.800  13.236  16.19  123.197  24.190"
      ]
     },
     "execution_count": 129,
     "metadata": {},
     "output_type": "execute_result"
    }
   ],
   "source": [
    "df_10y = df.groupby([\"sol\", \"annee\"]).sample(n=10, replace=True)\n",
    "df = df_10y.groupby([\"sol\", \"annee\"]).mean()\n",
    "df.head()"
   ]
  },
  {
   "cell_type": "markdown",
   "id": "f31d6f9c-d0e4-4c73-9232-67a8577778ab",
   "metadata": {},
   "source": [
    "### Preprocess and sort the dataframe"
   ]
  },
  {
   "cell_type": "code",
   "execution_count": 131,
   "id": "57df57af-8e65-4c84-8afa-bbab3d03113e",
   "metadata": {},
   "outputs": [],
   "source": [
    "df = df.reset_index()\n",
    "df[\"annee\"] = df[\"annee\"].astype(\"int64\")\n",
    "df[\"decade\"] = df[\"decade\"].astype(\"int64\")"
   ]
  },
  {
   "cell_type": "code",
   "execution_count": 132,
   "id": "070c6242-82f1-42e7-aa6a-15cccc16fbd2",
   "metadata": {},
   "outputs": [
    {
     "data": {
      "text/html": [
       "<div>\n",
       "<style scoped>\n",
       "    .dataframe tbody tr th:only-of-type {\n",
       "        vertical-align: middle;\n",
       "    }\n",
       "\n",
       "    .dataframe tbody tr th {\n",
       "        vertical-align: top;\n",
       "    }\n",
       "\n",
       "    .dataframe thead th {\n",
       "        text-align: right;\n",
       "    }\n",
       "</style>\n",
       "<table border=\"1\" class=\"dataframe\">\n",
       "  <thead>\n",
       "    <tr style=\"text-align: right;\">\n",
       "      <th></th>\n",
       "      <th>sol</th>\n",
       "      <th>annee</th>\n",
       "      <th>decade</th>\n",
       "      <th>Tmin</th>\n",
       "      <th>Tmax</th>\n",
       "      <th>Tmoy</th>\n",
       "      <th>Rain</th>\n",
       "      <th>RG</th>\n",
       "      <th>im</th>\n",
       "    </tr>\n",
       "  </thead>\n",
       "  <tbody>\n",
       "    <tr>\n",
       "      <th>0</th>\n",
       "      <td>330343</td>\n",
       "      <td>1984</td>\n",
       "      <td>19</td>\n",
       "      <td>8.129</td>\n",
       "      <td>15.779</td>\n",
       "      <td>11.954</td>\n",
       "      <td>12.37</td>\n",
       "      <td>129.508</td>\n",
       "      <td>21.140</td>\n",
       "    </tr>\n",
       "    <tr>\n",
       "      <th>1</th>\n",
       "      <td>330343</td>\n",
       "      <td>1985</td>\n",
       "      <td>21</td>\n",
       "      <td>8.623</td>\n",
       "      <td>14.116</td>\n",
       "      <td>11.369</td>\n",
       "      <td>22.21</td>\n",
       "      <td>94.708</td>\n",
       "      <td>40.904</td>\n",
       "    </tr>\n",
       "    <tr>\n",
       "      <th>2</th>\n",
       "      <td>330343</td>\n",
       "      <td>1986</td>\n",
       "      <td>12</td>\n",
       "      <td>4.724</td>\n",
       "      <td>11.072</td>\n",
       "      <td>7.898</td>\n",
       "      <td>14.75</td>\n",
       "      <td>95.614</td>\n",
       "      <td>33.283</td>\n",
       "    </tr>\n",
       "    <tr>\n",
       "      <th>3</th>\n",
       "      <td>330343</td>\n",
       "      <td>1987</td>\n",
       "      <td>11</td>\n",
       "      <td>4.307</td>\n",
       "      <td>10.641</td>\n",
       "      <td>7.474</td>\n",
       "      <td>16.61</td>\n",
       "      <td>104.955</td>\n",
       "      <td>34.164</td>\n",
       "    </tr>\n",
       "    <tr>\n",
       "      <th>4</th>\n",
       "      <td>330343</td>\n",
       "      <td>1988</td>\n",
       "      <td>23</td>\n",
       "      <td>9.671</td>\n",
       "      <td>16.800</td>\n",
       "      <td>13.236</td>\n",
       "      <td>16.19</td>\n",
       "      <td>123.197</td>\n",
       "      <td>24.190</td>\n",
       "    </tr>\n",
       "  </tbody>\n",
       "</table>\n",
       "</div>"
      ],
      "text/plain": [
       "      sol  annee  decade   Tmin    Tmax    Tmoy   Rain       RG      im\n",
       "0  330343   1984      19  8.129  15.779  11.954  12.37  129.508  21.140\n",
       "1  330343   1985      21  8.623  14.116  11.369  22.21   94.708  40.904\n",
       "2  330343   1986      12  4.724  11.072   7.898  14.75   95.614  33.283\n",
       "3  330343   1987      11  4.307  10.641   7.474  16.61  104.955  34.164\n",
       "4  330343   1988      23  9.671  16.800  13.236  16.19  123.197  24.190"
      ]
     },
     "execution_count": 132,
     "metadata": {},
     "output_type": "execute_result"
    }
   ],
   "source": [
    "df.head()"
   ]
  },
  {
   "cell_type": "code",
   "execution_count": null,
   "id": "b0038dcc-2d1d-431c-937f-4c5a8348fd7d",
   "metadata": {},
   "outputs": [],
   "source": [
    "df.describe(include= \"all\")"
   ]
  },
  {
   "cell_type": "code",
   "execution_count": null,
   "id": "2765ae05-69ae-4bd8-bbba-18ff383b9e95",
   "metadata": {},
   "outputs": [],
   "source": [
    "df.sort_values(by=[\"annee\",\"decade\"]).head()"
   ]
  },
  {
   "cell_type": "markdown",
   "id": "ddfc80c4-5ff1-421c-bc06-2bf88898627a",
   "metadata": {},
   "source": [
    "## Analysis of annual valuations"
   ]
  },
  {
   "cell_type": "code",
   "execution_count": null,
   "id": "19b34282-a10d-436a-9b2c-b7388cba4e1e",
   "metadata": {},
   "outputs": [],
   "source": [
    "df = valorisation_annuelle"
   ]
  },
  {
   "cell_type": "code",
   "execution_count": null,
   "id": "15a96c3f-bdbb-4e8e-a4db-7a43a0b52380",
   "metadata": {},
   "outputs": [],
   "source": [
    "valorisation_annuelle.head()"
   ]
  },
  {
   "cell_type": "code",
   "execution_count": null,
   "id": "e483bad8-897e-47ae-bac6-da03054eccc8",
   "metadata": {},
   "outputs": [],
   "source": [
    "valorisation_annuelle.describe()"
   ]
  },
  {
   "cell_type": "code",
   "execution_count": null,
   "id": "8640038a-55db-4b31-83fa-313c376d40d8",
   "metadata": {},
   "outputs": [],
   "source": [
    "print(valorisation_annuelle.shape)\n",
    "print(valorisation_annuelle.columns)\n",
    "print(valorisation_annuelle.info())"
   ]
  },
  {
   "cell_type": "code",
   "execution_count": null,
   "id": "ca87bcab-d2e2-43e2-9442-9c7e0c438b17",
   "metadata": {},
   "outputs": [],
   "source": [
    "for column in valorisation_annuelle.columns:\n",
    "    if column in croissance_et_climat_decadaires.columns:\n",
    "        print(column)"
   ]
  },
  {
   "cell_type": "markdown",
   "id": "bfecc867-6608-4a04-8e80-3cd1aca1e1bd",
   "metadata": {},
   "source": [
    "## Preprocessing"
   ]
  },
  {
   "cell_type": "code",
   "execution_count": null,
   "id": "65c30216-f96a-4111-9372-f6ee3f97c364",
   "metadata": {},
   "outputs": [],
   "source": [
    "X = croissance_et_climat_decadaires.loc[:, [\"annee\",\"decade\",\"Tmin\",\"Tmax\",\"Tmoy\",\"Rain\",\"RG\",\"im\"]].values.astype(float)\n",
    "y = valorisation_annuelle.loc[:, [\"cumul_croissance\"]].values.astype(float)"
   ]
  }
 ],
 "metadata": {
  "kernelspec": {
   "display_name": "Python 3 (ipykernel)",
   "language": "python",
   "name": "python3"
  },
  "language_info": {
   "codemirror_mode": {
    "name": "ipython",
    "version": 3
   },
   "file_extension": ".py",
   "mimetype": "text/x-python",
   "name": "python",
   "nbconvert_exporter": "python",
   "pygments_lexer": "ipython3",
   "version": "3.9.13"
  },
  "toc-autonumbering": false,
  "toc-showmarkdowntxt": true
 },
 "nbformat": 4,
 "nbformat_minor": 5
}
