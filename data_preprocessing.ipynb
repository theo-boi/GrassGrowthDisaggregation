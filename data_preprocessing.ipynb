{
 "cells": [
  {
   "cell_type": "code",
   "execution_count": 2,
   "id": "41fcd5f5-2a2e-4d49-beaa-7830622cffb9",
   "metadata": {},
   "outputs": [],
   "source": [
    "# Import the libraries\n",
    "\n",
    "import numpy as np\n",
    "import matplotlib.pyplot as plt\n",
    "import pandas as pd"
   ]
  },
  {
   "cell_type": "code",
   "execution_count": 8,
   "id": "4d288d52-b6af-4bca-8398-17d87c725065",
   "metadata": {},
   "outputs": [],
   "source": [
    "# Import data\n",
    "\n",
    "if __name__ == \"__main__\":\n",
    "    import pyreadr\n",
    "    import os\n",
    "\n",
    "    pd.set_option(\"display.precision\", 3)\n",
    "    data_dir_path = os.getcwd() + '/dataverse_files/'\n",
    "\n",
    "    croissance_et_climat_decadaires = pyreadr.read_r(data_dir_path + \"croissance_et_climat_decadaires.rds\" ).popitem()[1]\n",
    "    valorisation_annuelle = pyreadr.read_r(data_dir_path + \"valorisation_annuelle.rds\" ).popitem()[1]"
   ]
  },
  {
   "cell_type": "markdown",
   "id": "18a29474",
   "metadata": {},
   "source": [
    "### Global variables"
   ]
  },
  {
   "cell_type": "code",
   "execution_count": 3,
   "id": "bf42e10f",
   "metadata": {},
   "outputs": [],
   "source": [
    "nb_annees = 1"
   ]
  },
  {
   "cell_type": "markdown",
   "id": "4fb0e50b-3e43-4d9a-b874-f5f8682d5e59",
   "metadata": {},
   "source": [
    "## Data Preparation"
   ]
  },
  {
   "cell_type": "markdown",
   "id": "c6589a06-52ff-49a5-8dd0-7a66345df75f",
   "metadata": {},
   "source": [
    "### Growths and decadal climates"
   ]
  },
  {
   "cell_type": "code",
   "execution_count": 9,
   "id": "b2db8532-1f5b-43ab-a6f6-1c6b705f5182",
   "metadata": {},
   "outputs": [],
   "source": [
    "identifier_columns = [\"ucs\", \"safran\", \"sol\"] + [\"type_de_prairie\"] + [\"gestion\"]\n",
    "valuable_columns = identifier_columns + [\"annee\", \"decade\", \"Tmin\", \"Tmax\", \"Tmoy\", \"Rain\", \"RG\", \"im\", \"croissance\"]\n",
    "df = croissance_et_climat_decadaires.loc[:, valuable_columns]"
   ]
  },
  {
   "cell_type": "code",
   "execution_count": 10,
   "id": "f61b93af",
   "metadata": {},
   "outputs": [],
   "source": [
    "annee_inf = df[\"annee\"].max() - nb_annees\n",
    "df = df.loc[(df[\"annee\"] > annee_inf), :]\n",
    "\n",
    "df.sort_values(by= identifier_columns + [\"annee\", \"decade\"], inplace=True)\n",
    "df.drop(\"type_de_prairie\", axis= 'columns', inplace= True)\n",
    "identifier_columns.remove(\"type_de_prairie\")\n",
    "\n",
    "df.dropna(inplace= True)\n",
    "\n",
    "df[\"annee\"] = df[\"annee\"].astype(\"int64\")\n",
    "df[\"decade\"] = df[\"decade\"].astype(\"int64\")\n",
    "\n",
    "croissance_et_climat_decadaires_preprocessed = df"
   ]
  },
  {
   "cell_type": "markdown",
   "id": "5d960471-c606-4883-9de3-24f5d261320a",
   "metadata": {},
   "source": [
    "### Annual valuations"
   ]
  },
  {
   "cell_type": "code",
   "execution_count": 11,
   "id": "d0fd8465-3c07-4647-a0bb-f3fdf77859cc",
   "metadata": {},
   "outputs": [],
   "source": [
    "valuable_columns = identifier_columns + [\"annee\", \"cumul_croissance\"]\n",
    "df = valorisation_annuelle.loc[:, valuable_columns]\n",
    "\n",
    "df = df.reset_index(drop=True)\n",
    "df[[\"annee\"]] = df[[\"annee\"]].astype(\"int64\")\n",
    "\n",
    "annee_inf = df[\"annee\"].max() - nb_annees\n",
    "df = df.loc[(df[\"annee\"] > annee_inf), :]\n",
    "\n",
    "valorisation_annuelle_preprocessed = df"
   ]
  },
  {
   "cell_type": "markdown",
   "id": "4f2ae271-511c-4020-b33b-36b938fc7e94",
   "metadata": {},
   "source": [
    "### Concatenation"
   ]
  },
  {
   "cell_type": "code",
   "execution_count": 12,
   "id": "f6556177",
   "metadata": {},
   "outputs": [],
   "source": [
    "data_set = croissance_et_climat_decadaires_preprocessed.merge(valorisation_annuelle_preprocessed, how='left', on= identifier_columns + [\"annee\"])"
   ]
  },
  {
   "cell_type": "code",
   "execution_count": 13,
   "id": "5e95febf-df53-4d29-b85c-81162feb523d",
   "metadata": {},
   "outputs": [],
   "source": [
    "WrongCumul = data_set.groupby(identifier_columns+[\"annee\"]).sum(numeric_only= True)[\"croissance\"] / 100 != data_set.groupby(identifier_columns + [\"annee\"]).last()[\"cumul_croissance\"]\n",
    "WrongCumul.sum()\n",
    "\n",
    "data_set = data_set.merge(WrongCumul.reset_index(), how='left', on= identifier_columns+[\"annee\"])\n",
    "WrongIndexes = data_set[data_set[0] == True].index\n",
    "\n",
    "data_set.drop(WrongIndexes, inplace= True)\n",
    "data_set.drop(columns=0, inplace= True)"
   ]
  },
  {
   "cell_type": "code",
   "execution_count": 14,
   "id": "820ae393-02bd-4e16-8ffa-832852718bcd",
   "metadata": {},
   "outputs": [],
   "source": [
    "data_columns = [\"Tmin\", \"Tmax\", \"Tmoy\", \"Rain\", \"RG\", \"im\", \"croissance\", \"cumul_croissance\"]\n",
    "data_set = data_set.loc[:, data_columns]\n",
    "\n",
    "data_set_Y = pd.DataFrame({'croissance' : data_set.pop('croissance')})\n",
    "data_set_X = data_set"
   ]
  },
  {
   "cell_type": "markdown",
   "id": "54cc2d01-8e94-48bd-85af-b05e0f7dac67",
   "metadata": {},
   "source": [
    "## Data Preprocessing"
   ]
  },
  {
   "cell_type": "code",
   "execution_count": null,
   "id": "56b28f64",
   "metadata": {},
   "outputs": [],
   "source": [
    "X, Y = list(), list()\n",
    "\n",
    "last_progression = 0\n",
    "window_size = 4\n",
    "data_id_size = 37*nb_annees # number of decades per year # PAS BATCH\n",
    "\n",
    "# build batches\n",
    "for data_id_index in range(0, len(data_set) - data_id_size, data_id_size): # for each batch\n",
    "    batch_end_index = data_id_index + data_id_size\n",
    "    # build samples by concatenating all entries that fit in the window\n",
    "    for index in range(data_id_index, batch_end_index - window_size): # for each window in the batch\n",
    "        x_c = data_set_X.iloc[index:(index + window_size), :] # concatenate climate data of entries that fit in the window\n",
    "        x_g = data_set_Y.iloc[index:(index + window_size - 1), 0] # concatenate daily growth of the beginning of the window\n",
    "        x_c = x_c.values.reshape(-1)\n",
    "        x_g = x_g.values.reshape(-1)\n",
    "        x = list(x_c) + list(x_g)\n",
    "        \n",
    "        y = data_set_Y.iloc[index + window_size, 0] # daily growth of the end of the window\n",
    "        X.append(x)\n",
    "        Y.append(y)\n",
    "    progression = data_id_index / (len(data_set) - data_id_size) * 100\n",
    "    if progression - last_progression > 1 and not int(progression) % 5:\n",
    "        print(int(progression), '%')\n",
    "        last_progression = progression"
   ]
  },
  {
   "cell_type": "code",
   "execution_count": null,
   "id": "b2f01bfc-d6be-485f-abe1-3cf5651d3d80",
   "metadata": {},
   "outputs": [],
   "source": [
    "import pickle\n",
    "\n",
    "with open(\"x.pickle\", \"wb\") as outfile:\n",
    "    pickle.dump(X, outfile)\n",
    "    \n",
    "with open(\"y.pickle\", \"wb\") as outfile:\n",
    "    pickle.dump(Y, outfile)"
   ]
  }
 ],
 "metadata": {
  "kernelspec": {
   "display_name": "Python 3 (ipykernel)",
   "language": "python",
   "name": "python3"
  },
  "language_info": {
   "codemirror_mode": {
    "name": "ipython",
    "version": 3
   },
   "file_extension": ".py",
   "mimetype": "text/x-python",
   "name": "python",
   "nbconvert_exporter": "python",
   "pygments_lexer": "ipython3",
   "version": "3.10.8"
  }
 },
 "nbformat": 4,
 "nbformat_minor": 5
}
