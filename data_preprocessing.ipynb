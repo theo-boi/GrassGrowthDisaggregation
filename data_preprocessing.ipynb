{
 "cells": [
  {
   "cell_type": "code",
   "execution_count": 1,
   "id": "41fcd5f5-2a2e-4d49-beaa-7830622cffb9",
   "metadata": {},
   "outputs": [],
   "source": [
    "# Import the libraries\n",
    "\n",
    "import numpy as np\n",
    "import matplotlib.pyplot as plt\n",
    "import pandas as pd"
   ]
  },
  {
   "cell_type": "code",
   "execution_count": 2,
   "id": "decb77e8-1890-4f0a-afdc-d4dd5a60ff83",
   "metadata": {},
   "outputs": [],
   "source": [
    "# Define settings\n",
    "import os\n",
    "\n",
    "pd.set_option(\"display.precision\", 3)\n",
    "data_dir_path = os.getcwd() + '/dataverse_files/'"
   ]
  },
  {
   "cell_type": "code",
   "execution_count": 3,
   "id": "ee5c662b-e134-4a64-97b6-eb410b26552a",
   "metadata": {},
   "outputs": [],
   "source": [
    "# Import data\n",
    "import pyreadr\n",
    "\n",
    "croissance_et_climat_decadaires = pyreadr.read_r(data_dir_path + \"croissance_et_climat_decadaires.rds\" ).popitem()[1]\n",
    "valorisation_annuelle = pyreadr.read_r(data_dir_path + \"valorisation_annuelle.rds\" ).popitem()[1]"
   ]
  },
  {
   "cell_type": "code",
   "execution_count": 4,
   "id": "b2db8532-1f5b-43ab-a6f6-1c6b705f5182",
   "metadata": {},
   "outputs": [],
   "source": [
    "valuable_columns = [\"ucs\", \"safran\", \"sol\", \"gestion\", \"annee\", \"decade\", \"Tmin\", \"Tmax\", \"Tmoy\", \"Rain\", \"RG\", \"im\", \"croissance\"]\n",
    "df = croissance_et_climat_decadaires.loc[:, valuable_columns]\n",
    "\n",
    "df.dropna(inplace= True)\n",
    "data_preserved = (df.isna() | df.isnull()).sum().sum() == 0\n",
    "data_preserved = data_preserved & (df.groupby([\"ucs\", \"safran\", \"sol\", \"gestion\", \"annee\"]).count()[\"decade\"] % 37 == 0).all()\n",
    "assert data_preserved == True\n",
    "\n",
    "df[\"annee\"] = df[\"annee\"].astype(\"int64\")\n",
    "df[\"decade\"] = df[\"decade\"].astype(\"int64\")\n",
    "\n",
    "croissance_et_climat_decadaires_preprocessed = df"
   ]
  },
  {
   "cell_type": "code",
   "execution_count": 5,
   "id": "d0fd8465-3c07-4647-a0bb-f3fdf77859cc",
   "metadata": {},
   "outputs": [],
   "source": [
    "valuable_columns = [\"ucs\", \"safran\", \"sol\", \"gestion\", \"annee\", \"cumul_croissance\"]\n",
    "df = valorisation_annuelle.loc[:, valuable_columns]\n",
    "\n",
    "df = df.reset_index(drop=True)\n",
    "df[[\"annee\"]] = df[[\"annee\"]].astype(\"int64\")\n",
    "\n",
    "valorisation_annuelle_preprocessed = df"
   ]
  },
  {
   "cell_type": "code",
   "execution_count": 6,
   "id": "f6556177",
   "metadata": {},
   "outputs": [],
   "source": [
    "X = croissance_et_climat_decadaires_preprocessed.merge(valorisation_annuelle_preprocessed, how='left', on=[\"ucs\", \"safran\",\"sol\",\"gestion\",\"annee\"])\n",
    "\n",
    "assert (X.isna() | X.isnull()).sum().sum() == 0\n",
    "\n",
    "Y = pd.DataFrame({'croissance' : X.pop('croissance')})"
   ]
  }
 ],
 "metadata": {
  "kernelspec": {
   "display_name": "Python 3 (ipykernel)",
   "language": "python",
   "name": "python3"
  },
  "language_info": {
   "codemirror_mode": {
    "name": "ipython",
    "version": 3
   },
   "file_extension": ".py",
   "mimetype": "text/x-python",
   "name": "python",
   "nbconvert_exporter": "python",
   "pygments_lexer": "ipython3",
   "version": "3.9.13"
  }
 },
 "nbformat": 4,
 "nbformat_minor": 5
}
