{
 "cells": [
  {
   "cell_type": "code",
   "execution_count": 1,
   "id": "41fcd5f5-2a2e-4d49-beaa-7830622cffb9",
   "metadata": {},
   "outputs": [],
   "source": [
    "# Import the libraries\n",
    "\n",
    "import numpy as np\n",
    "import matplotlib.pyplot as plt\n",
    "import pandas as pd"
   ]
  },
  {
   "cell_type": "code",
   "execution_count": null,
   "id": "4d288d52-b6af-4bca-8398-17d87c725065",
   "metadata": {},
   "outputs": [],
   "source": [
    "# Import data\n",
    "\n",
    "if __name__ == \"__main__\":\n",
    "    import pyreadr\n",
    "    import os\n",
    "\n",
    "    pd.set_option(\"display.precision\", 3)\n",
    "    data_dir_path = os.getcwd() + '/dataverse_files/'\n",
    "\n",
    "    croissance_et_climat_decadaires = pyreadr.read_r(data_dir_path + \"croissance_et_climat_decadaires.rds\" ).popitem()[1]\n",
    "    valorisation_annuelle = pyreadr.read_r(data_dir_path + \"valorisation_annuelle.rds\" ).popitem()[1]"
   ]
  },
  {
   "cell_type": "markdown",
   "id": "4fb0e50b-3e43-4d9a-b874-f5f8682d5e59",
   "metadata": {},
   "source": [
    "## Data Preparation"
   ]
  },
  {
   "cell_type": "markdown",
   "id": "c6589a06-52ff-49a5-8dd0-7a66345df75f",
   "metadata": {},
   "source": [
    "### Growths and decadal climates"
   ]
  },
  {
   "cell_type": "code",
   "execution_count": 14,
   "id": "b2db8532-1f5b-43ab-a6f6-1c6b705f5182",
   "metadata": {},
   "outputs": [],
   "source": [
    "identifier_columns = [\"ucs\", \"safran\", \"sol\", \"type_de_prairie\", \"gestion\"]\n",
    "valuable_columns = identifier_columns + [\"annee\", \"decade\", \"Tmin\", \"Tmax\", \"Tmoy\", \"Rain\", \"RG\", \"im\", \"croissance\"]\n",
    "df = croissance_et_climat_decadaires.loc[:, valuable_columns]\n",
    "\n",
    "annee_inf = df[\"annee\"].max() - 5\n",
    "df = df.loc[(df[\"annee\"] > annee_inf), :]\n",
    "\n",
    "df.sort_values(by= identifier_columns + [\"annee\", \"decade\"], inplace=True)\n",
    "df.drop(\"type_de_prairie\", axis= 'columns', inplace= True)\n",
    "identifier_columns.remove(\"type_de_prairie\")\n",
    "\n",
    "df.dropna(inplace= True)\n",
    "data_preserved = (df.isna() | df.isnull()).sum().sum() == 0\n",
    "data_preserved = data_preserved & (df.groupby(identifier_columns).count()[\"decade\"] % 37 == 0).all()\n",
    "assert data_preserved == True\n",
    "\n",
    "df[\"annee\"] = df[\"annee\"].astype(\"int64\")\n",
    "df[\"decade\"] = df[\"decade\"].astype(\"int64\")\n",
    "\n",
    "croissance_et_climat_decadaires_preprocessed = df"
   ]
  },
  {
   "cell_type": "markdown",
   "id": "5d960471-c606-4883-9de3-24f5d261320a",
   "metadata": {},
   "source": [
    "### Annual valuations"
   ]
  },
  {
   "cell_type": "code",
   "execution_count": 15,
   "id": "d0fd8465-3c07-4647-a0bb-f3fdf77859cc",
   "metadata": {},
   "outputs": [],
   "source": [
    "valuable_columns = [\"ucs\", \"safran\", \"sol\", \"gestion\", \"annee\", \"cumul_croissance\"]\n",
    "df = valorisation_annuelle.loc[:, valuable_columns]\n",
    "\n",
    "df = df.reset_index(drop=True)\n",
    "df[[\"annee\"]] = df[[\"annee\"]].astype(\"int64\")\n",
    "\n",
    "annee_inf = df[\"annee\"].max() - 5\n",
    "df = df.loc[(df[\"annee\"] > annee_inf), :]\n",
    "\n",
    "valorisation_annuelle_preprocessed = df"
   ]
  },
  {
   "cell_type": "markdown",
   "id": "4f2ae271-511c-4020-b33b-36b938fc7e94",
   "metadata": {},
   "source": [
    "### Concatenation"
   ]
  },
  {
   "cell_type": "code",
   "execution_count": 17,
   "id": "f6556177",
   "metadata": {},
   "outputs": [],
   "source": [
    "data_set = croissance_et_climat_decadaires_preprocessed.merge(valorisation_annuelle_preprocessed, how='left', on=[\"ucs\", \"safran\",\"sol\",\"gestion\",\"annee\"])\n",
    "\n",
    "assert (data_set.isna() | data_set.isnull()).sum().sum() == 0\n",
    "\n",
    "data_set_Y = pd.DataFrame({'croissance' : data_set.pop('croissance')})\n",
    "data_set_X = data_set"
   ]
  },
  {
   "cell_type": "markdown",
   "id": "54cc2d01-8e94-48bd-85af-b05e0f7dac67",
   "metadata": {},
   "source": [
    "## Data Preprocessing"
   ]
  },
  {
   "cell_type": "code",
   "execution_count": 34,
   "id": "2af77a6b-6b42-440f-b457-0c3b8e96a86d",
   "metadata": {
    "scrolled": true,
    "tags": []
   },
   "outputs": [
    {
     "name": "stdout",
     "output_type": "stream",
     "text": [
      "1 %\n",
      "2 %\n",
      "3 %\n",
      "4 %\n",
      "5 %\n",
      "6 %\n",
      "7 %\n",
      "8 %\n",
      "9 %\n",
      "10 %\n",
      "11 %\n",
      "12 %\n",
      "13 %\n",
      "14 %\n",
      "15 %\n",
      "16 %\n",
      "17 %\n",
      "18 %\n",
      "19 %\n",
      "20 %\n",
      "21 %\n",
      "22 %\n",
      "23 %\n",
      "24 %\n",
      "25 %\n",
      "26 %\n",
      "27 %\n",
      "28 %\n",
      "29 %\n",
      "30 %\n",
      "31 %\n",
      "32 %\n",
      "33 %\n",
      "34 %\n",
      "35 %\n",
      "36 %\n",
      "37 %\n",
      "38 %\n",
      "39 %\n",
      "40 %\n",
      "41 %\n",
      "42 %\n",
      "43 %\n",
      "44 %\n",
      "45 %\n",
      "46 %\n",
      "47 %\n",
      "48 %\n",
      "49 %\n",
      "50 %\n",
      "51 %\n",
      "52 %\n",
      "53 %\n",
      "54 %\n",
      "55 %\n",
      "56 %\n",
      "57 %\n",
      "58 %\n",
      "59 %\n",
      "60 %\n",
      "61 %\n",
      "62 %\n",
      "63 %\n",
      "64 %\n",
      "65 %\n",
      "66 %\n",
      "67 %\n",
      "68 %\n",
      "69 %\n",
      "70 %\n",
      "71 %\n",
      "72 %\n",
      "73 %\n",
      "74 %\n",
      "75 %\n",
      "76 %\n",
      "77 %\n",
      "78 %\n",
      "79 %\n",
      "80 %\n",
      "81 %\n",
      "82 %\n",
      "83 %\n",
      "84 %\n",
      "85 %\n",
      "86 %\n",
      "87 %\n",
      "88 %\n",
      "89 %\n",
      "90 %\n",
      "91 %\n",
      "92 %\n",
      "93 %\n",
      "94 %\n",
      "95 %\n",
      "96 %\n",
      "97 %\n",
      "98 %\n",
      "99 %\n"
     ]
    }
   ],
   "source": [
    "X, Y = list(), list()\n",
    "\n",
    "last_progression = 0\n",
    "window_size = 3\n",
    "batch_size = 37*1 # number of decades per year times number of years, per ID\n",
    "for batch_index in range(0, len(data_set) - batch_size, batch_size): # for each batch\n",
    "    batch_end_index = batch_index + batch_size\n",
    "    for index in range(batch_index, batch_end_index - window_size + 1): # for each window in the batch\n",
    "        x = data_set_X.iloc[index:(index + window_size + 1), :]\n",
    "        x = x.values.reshape(-1)\n",
    "        y = data_set_Y.iloc[index + window_size + 1, 0]\n",
    "        X.append(x)\n",
    "        Y.append(y)\n",
    "    progression = batch_index / (len(data_set) - batch_size) * 100\n",
    "    if progression - last_progression > 1:\n",
    "        print(int(progression), '%')\n",
    "        last_progression = progression"
   ]
  },
  {
   "cell_type": "code",
   "execution_count": 37,
   "id": "b2f01bfc-d6be-485f-abe1-3cf5651d3d80",
   "metadata": {},
   "outputs": [],
   "source": [
    "import pickle\n",
    "\n",
    "#with open(\"x.pickle\", \"wb\") as outfile:\n",
    "#    pickle.dump(X, outfile)\n",
    "    \n",
    "#with open(\"y.pickle\", \"wb\") as outfile:\n",
    "#    pickle.dump(Y, outfile)"
   ]
  }
 ],
 "metadata": {
  "kernelspec": {
   "display_name": "Python 3 (ipykernel)",
   "language": "python",
   "name": "python3"
  },
  "language_info": {
   "codemirror_mode": {
    "name": "ipython",
    "version": 3
   },
   "file_extension": ".py",
   "mimetype": "text/x-python",
   "name": "python",
   "nbconvert_exporter": "python",
   "pygments_lexer": "ipython3",
   "version": "3.9.13"
  }
 },
 "nbformat": 4,
 "nbformat_minor": 5
}
