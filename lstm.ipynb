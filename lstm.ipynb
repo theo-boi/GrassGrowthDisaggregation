{
 "cells": [
  {
   "cell_type": "code",
   "execution_count": 1,
   "id": "167d5bd0",
   "metadata": {
    "collapsed": false,
    "jupyter": {
     "outputs_hidden": false
    },
    "pycharm": {
     "name": "#%%\n"
    }
   },
   "outputs": [],
   "source": [
    "# Import libraries\n",
    "\n",
    "import numpy as np\n",
    "import matplotlib.pyplot as plt\n",
    "\n",
    "from data import pipeline\n",
    "from data.window import SlidingWindow\n",
    "\n",
    "# Load the TensorBoard notebook extension\n",
    "%load_ext tensorboard\n",
    "\n",
    "import tensorflow as tf\n",
    "import datetime\n",
    "\n",
    "# Clear any logs from previous runs\n",
    "# rm -rf ./logs/"
   ]
  },
  {
   "cell_type": "markdown",
   "id": "664444fd-2e5e-4513-899f-bd6d56e73f88",
   "metadata": {},
   "source": [
    "# Data preparation"
   ]
  },
  {
   "cell_type": "code",
   "execution_count": 2,
   "id": "7322d8b7-d484-47f9-8ecf-338a8d437a99",
   "metadata": {},
   "outputs": [
    {
     "name": "stdout",
     "output_type": "stream",
     "text": [
      "Loading LSTM dataset\n",
      "Done!\n",
      "(1050578, 4, 8) (1050578, 1)\n"
     ]
    }
   ],
   "source": [
    "X_train, Y_train, X_test, Y_test = pipeline.load(\"LSTM\") # load / buildAndSave / build\n",
    "print(X_train.shape, Y_train.shape)"
   ]
  },
  {
   "cell_type": "code",
   "execution_count": 3,
   "id": "8c401637-c2a5-4692-8d70-157318ea2427",
   "metadata": {},
   "outputs": [],
   "source": [
    "from sklearn.preprocessing import StandardScaler\n",
    "\n",
    "X_train = X_train.reshape(-1, 32)\n",
    "X_test = X_test.reshape(-1, 32)\n",
    "\n",
    "sc_X = StandardScaler()\n",
    "X_train = sc_X.fit_transform(X_train)\n",
    "X_test = sc_X.transform(X_test)\n",
    "\n",
    "sc_y = StandardScaler()\n",
    "Y_train = sc_y.fit_transform(Y_train.reshape(-1, 1))\n",
    "\n",
    "X_train = X_train.reshape(-1, 4, 8)\n",
    "X_test = X_test.reshape(-1, 4, 8)"
   ]
  },
  {
   "cell_type": "code",
   "execution_count": 4,
   "id": "c352f30e-71a3-4fea-b676-7664a083e048",
   "metadata": {},
   "outputs": [
    {
     "name": "stdout",
     "output_type": "stream",
     "text": [
      "(1050578, 4, 8) (1050578, 1)\n"
     ]
    }
   ],
   "source": [
    "print(X_train.shape, Y_train.shape)"
   ]
  },
  {
   "cell_type": "markdown",
   "id": "30903884",
   "metadata": {
    "pycharm": {
     "name": "#%% md\n"
    }
   },
   "source": [
    "# Training"
   ]
  },
  {
   "cell_type": "code",
   "execution_count": 5,
   "id": "c10e42ce-8aed-4dc4-8de1-b0196bda78d9",
   "metadata": {},
   "outputs": [],
   "source": [
    "from keras.models import Sequential\n",
    "from keras.layers import LSTM, Dense\n",
    "from keras.losses import MeanSquaredError\n",
    "from keras.optimizers import Adam\n",
    "import keras_tuner as kt"
   ]
  },
  {
   "cell_type": "code",
   "execution_count": 6,
   "id": "9e52780c-4512-4be2-965c-184aa9475f16",
   "metadata": {},
   "outputs": [],
   "source": [
    "def build_model(hp):\n",
    "    model = Sequential()\n",
    "    \n",
    "    # Tune the number of units in the LSTM per cell in the layer\n",
    "    # hp_units between 50-90\n",
    "    hp_units = hp.Int('units', min_value= 50, max_value= 90, step= 2)\n",
    "    model.add(LSTM(units= hp_units, activation= 'relu', input_shape= (4, 8)))\n",
    "    model.add(Dense(1))\n",
    "\n",
    "    # Tune the learning rate for the optimizer\n",
    "    # hp_learning_rate from 0.01, 0.001, or 0.0001\n",
    "    hp_learning_rate = hp.Float(\"learning_rate\", min_value=1e-4, max_value=1e-2, sampling=\"log\")\n",
    "    model.compile(optimizer= Adam(learning_rate= hp_learning_rate),\n",
    "                  loss= ['mean_squared_error'],\n",
    "                  metrics= [MeanSquaredError()])\n",
    "    return model\n",
    "\n",
    "tuner = kt.BayesianOptimization(\n",
    "    hypermodel= build_model,\n",
    "    objective= kt.Objective(\"val_mean_squared_error\", direction= \"min\"),\n",
    "    num_initial_points= 2,\n",
    "    executions_per_trial= 2,\n",
    "    project_name= \"lstm_automl\",\n",
    "    overwrite= True # True when searching\n",
    ")"
   ]
  },
  {
   "cell_type": "code",
   "execution_count": null,
   "id": "c3c0c02e-4822-4a78-a06b-db1588eadb44",
   "metadata": {},
   "outputs": [
    {
     "name": "stdout",
     "output_type": "stream",
     "text": [
      "\n",
      "Search: Running Trial #1\n",
      "\n",
      "Value             |Best Value So Far |Hyperparameter\n",
      "74                |?                 |units\n",
      "0.00017441        |?                 |learning_rate\n",
      "\n",
      "Epoch 1/10\n",
      "32831/32831 [==============================] - 122s 4ms/step - loss: 0.1159 - mean_squared_error: 0.1159\n",
      "Epoch 2/10\n",
      "32831/32831 [==============================] - 120s 4ms/step - loss: 0.0873 - mean_squared_error: 0.0873\n",
      "Epoch 3/10\n",
      "32831/32831 [==============================] - 117s 4ms/step - loss: 0.0797 - mean_squared_error: 0.0797\n",
      "Epoch 4/10\n",
      "32831/32831 [==============================] - 121s 4ms/step - loss: 0.0745 - mean_squared_error: 0.0745\n",
      "Epoch 5/10\n",
      "32831/32831 [==============================] - 151s 5ms/step - loss: 0.0707 - mean_squared_error: 0.0707\n",
      "Epoch 6/10\n",
      "32831/32831 [==============================] - 124s 4ms/step - loss: 0.0676 - mean_squared_error: 0.0676\n",
      "Epoch 7/10\n",
      "32831/32831 [==============================] - 125s 4ms/step - loss: 0.0651 - mean_squared_error: 0.0651\n",
      "Epoch 8/10\n",
      "32831/32831 [==============================] - 123s 4ms/step - loss: 0.0630 - mean_squared_error: 0.0630\n",
      "Epoch 9/10\n",
      "32831/32831 [==============================] - 128s 4ms/step - loss: 0.0611 - mean_squared_error: 0.0611\n",
      "Epoch 10/10\n",
      "32831/32831 [==============================] - 128s 4ms/step - loss: 0.0596 - mean_squared_error: 0.0596\n",
      "Epoch 1/10\n",
      "32831/32831 [==============================] - 125s 4ms/step - loss: 0.1164 - mean_squared_error: 0.1164\n",
      "Epoch 2/10\n",
      "32831/32831 [==============================] - 129s 4ms/step - loss: 0.0877 - mean_squared_error: 0.0877\n",
      "Epoch 3/10\n",
      "32831/32831 [==============================] - 125s 4ms/step - loss: 0.0797 - mean_squared_error: 0.0797\n",
      "Epoch 4/10\n",
      "32831/32831 [==============================] - 127s 4ms/step - loss: 0.0746 - mean_squared_error: 0.0746\n",
      "Epoch 5/10\n",
      "32831/32831 [==============================] - 129s 4ms/step - loss: 0.0706 - mean_squared_error: 0.0706\n",
      "Epoch 6/10\n",
      " 1662/32831 [>.............................] - ETA: 2:05 - loss: 0.0689 - mean_squared_error: 0.0689"
     ]
    }
   ],
   "source": [
    "# Reload tuner\n",
    "# tuner.reload()\n",
    "\n",
    "tuner.search(x= X_train, y= Y_train, epochs= 10)\n",
    "\n",
    "tuner.results_summary()\n",
    "\n",
    "best_hps = tuner.get_best_hyperparameters(num_trials=1)[0]\n",
    "print(f\"\"\"The best:\n",
    "- dimension of the hidden state found is {best_hps.get('units')}\n",
    "- learning rate found is {best_hps.get('learning_rate')}\"\"\")"
   ]
  },
  {
   "cell_type": "code",
   "execution_count": null,
   "id": "75998d81-7e45-4f01-8ca4-4de76b858c48",
   "metadata": {
    "collapsed": false,
    "jupyter": {
     "outputs_hidden": false
    },
    "pycharm": {
     "name": "#%%\n"
    }
   },
   "outputs": [],
   "source": [
    "# Reload tuner\n",
    "tuner.reload()\n",
    "\n",
    "model = tuner.hypermodel.build(best_hps)\n",
    "\n",
    "log_dir = \"logs/fit/\" + datetime.datetime.now().strftime(\"%Y%m%d-%H%M%S\")\n",
    "tensorboard_callback = tf.keras.callbacks.TensorBoard(log_dir=log_dir, histogram_freq=1)\n",
    "\n",
    "history = model.fit(X_train, Y_train, epochs= 10, callbacks= [tensorboard_callback])"
   ]
  },
  {
   "cell_type": "code",
   "execution_count": null,
   "id": "9639daa7-925d-483c-8370-38adf9f0f2da",
   "metadata": {},
   "outputs": [],
   "source": [
    "from sklearn.metrics import mean_squared_error\n",
    "from math import sqrt\n",
    "\n",
    "%tensorboard --logdir logs/fit\n",
    "\n",
    "print('Loss (RMSE) : %.3f' % sqrt(mean_squared_error(Y_train, model.predict(X_train))))"
   ]
  },
  {
   "cell_type": "markdown",
   "id": "82306ba6-e734-4d1c-8683-41082f994712",
   "metadata": {},
   "source": [
    "# Evaluation"
   ]
  },
  {
   "cell_type": "code",
   "execution_count": null,
   "id": "38d79fca-e515-4dac-8bc8-e6534e053405",
   "metadata": {},
   "outputs": [],
   "source": [
    "X_test = X_test[:1000]\n",
    "Y_test = Y_test[:1000]\n",
    "print(X_test.shape, Y_test.shape)"
   ]
  },
  {
   "cell_type": "code",
   "execution_count": null,
   "id": "4adaed9d-af8e-42d3-b0d1-4b232a4f7e23",
   "metadata": {},
   "outputs": [],
   "source": [
    "sw = SlidingWindow(X_test, reset_cycle= 37)\n",
    "\n",
    "pred = model.predict(sw.values.reshape(-1, 4, 8), verbose=0) # iterator: 0\n",
    "Y_preds = [pred]\n",
    "\n",
    "last_progression = 0\n",
    "print(0, '%')\n",
    "while sw.next(pred): # iterator: t-1\n",
    "    arg = sw.values.reshape(-1, 4, 8)\n",
    "    pred = model.predict(sw.values.reshape(-1, 4, 8), verbose=0) # iterator: t\n",
    "    if np.isnan(pred):\n",
    "        print(arg)\n",
    "    Y_preds.append(pred)\n",
    "        \n",
    "    progression = (sw.it+1) / len(X_test) * 100\n",
    "    if progression - last_progression > 1 and not int(progression) % 10:\n",
    "        print(int(progression), '%')\n",
    "        last_progression = progression\n",
    "\n",
    "Y_preds = np.array(Y_preds).reshape(-1)"
   ]
  },
  {
   "cell_type": "code",
   "execution_count": null,
   "id": "243764ff",
   "metadata": {
    "collapsed": false,
    "jupyter": {
     "outputs_hidden": false
    },
    "pycharm": {
     "name": "#%%\n"
    }
   },
   "outputs": [],
   "source": [
    "print('Test RMSE : %.3f' % sqrt(mean_squared_error(Y_test, Y_preds)))"
   ]
  },
  {
   "cell_type": "code",
   "execution_count": null,
   "id": "453cd5d1-fe9f-436d-8bae-cde3325e5441",
   "metadata": {
    "collapsed": false,
    "jupyter": {
     "outputs_hidden": false
    },
    "pycharm": {
     "name": "#%%\n"
    }
   },
   "outputs": [],
   "source": [
    "Y_preds = sc_y.inverse_transform(Y_preds.reshape(1, -1))\n",
    "Y_preds = Y_preds.reshape(-1)\n",
    "\n",
    "year = 5\n",
    "plt.plot([decade for decade in range(37)], Y_test[37*year:37*(year+1)], color=\"blue\", label= \"raw\")\n",
    "plt.plot([decade for decade in range(37)], Y_preds[37*year:37*(year+1)], color=\"red\", label= \"lstm\")\n",
    "plt.plot([decade for decade in range(37)], Y_naive[37*year:37*(year+1)], color=\"red\", label= \"naive model\")\n",
    "plt.xlabel(\"Decades\")\n",
    "plt.ylabel(\"Growth\")\n",
    "plt.legend()\n",
    "plt.show()"
   ]
  },
  {
   "cell_type": "code",
   "execution_count": null,
   "id": "9083ddcc-539b-4c86-b84d-b0422341788b",
   "metadata": {},
   "outputs": [],
   "source": []
  }
 ],
 "metadata": {
  "kernelspec": {
   "display_name": "Python 3 (ipykernel)",
   "language": "python",
   "name": "python3"
  },
  "language_info": {
   "codemirror_mode": {
    "name": "ipython",
    "version": 3
   },
   "file_extension": ".py",
   "mimetype": "text/x-python",
   "name": "python",
   "nbconvert_exporter": "python",
   "pygments_lexer": "ipython3",
   "version": "3.10.8"
  }
 },
 "nbformat": 4,
 "nbformat_minor": 5
}
