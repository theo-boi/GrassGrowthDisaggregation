{
 "cells": [
  {
   "cell_type": "code",
   "execution_count": 1,
   "id": "167d5bd0",
   "metadata": {
    "collapsed": false,
    "jupyter": {
     "outputs_hidden": false
    },
    "pycharm": {
     "name": "#%%\n"
    }
   },
   "outputs": [],
   "source": [
    "# Import libraries\n",
    "\n",
    "import numpy as np\n",
    "import matplotlib.pyplot as plt\n",
    "\n",
    "from data import pipeline\n",
    "from data.window import SlidingWindow"
   ]
  },
  {
   "cell_type": "markdown",
   "id": "664444fd-2e5e-4513-899f-bd6d56e73f88",
   "metadata": {},
   "source": [
    "# Data preparation"
   ]
  },
  {
   "cell_type": "code",
   "execution_count": 2,
   "id": "de58b36c-5a4e-4c41-8ffb-97ee83e5f381",
   "metadata": {
    "pycharm": {
     "name": "#%%\n"
    },
    "tags": []
   },
   "outputs": [
    {
     "name": "stdout",
     "output_type": "stream",
     "text": [
      "Converting training dataset for LSTM dataset\n",
      "0 %\n",
      "20 %\n",
      "40 %\n",
      "60 %\n",
      "80 %\n",
      "100 %\n",
      "\n",
      "Converting testing dataset for LSTM dataset\n",
      "0 %\n",
      "20 %\n",
      "40 %\n",
      "60 %\n",
      "80 %\n",
      "100 %\n",
      "\n",
      "Done!\n",
      "\n",
      "Saving LSTM dataset\n",
      "Done!\n"
     ]
    }
   ],
   "source": [
    "X_train, Y_train, X_test, Y_test = pipeline.buildAndSave(\"LSTM\") # load / buildAndSave / build"
   ]
  },
  {
   "cell_type": "code",
   "execution_count": 3,
   "id": "48ea8173-36d8-47a4-b897-089337601637",
   "metadata": {},
   "outputs": [
    {
     "name": "stdout",
     "output_type": "stream",
     "text": [
      "(1050578, 4, 8)\n",
      "(1050578, 1)\n"
     ]
    }
   ],
   "source": [
    "print(X_train.shape)\n",
    "print(Y_train.shape)"
   ]
  },
  {
   "cell_type": "code",
   "execution_count": 4,
   "id": "c007728d-51a5-435a-8289-a297edc20405",
   "metadata": {
    "collapsed": false,
    "jupyter": {
     "outputs_hidden": false
    },
    "pycharm": {
     "name": "#%%\n"
    }
   },
   "outputs": [
    {
     "name": "stdout",
     "output_type": "stream",
     "text": [
      "(1050578, 1)\n"
     ]
    }
   ],
   "source": [
    "from sklearn.preprocessing import StandardScaler\n",
    "\n",
    "X_train = X_train.reshape(-1, 32)\n",
    "X_test = X_test.reshape(-1, 32)\n",
    "\n",
    "sc_X = StandardScaler()\n",
    "X_train = sc_X.fit_transform(X_train)\n",
    "X_test = sc_X.transform(X_test)\n",
    "\n",
    "sc_y = StandardScaler()\n",
    "Y_train = sc_y.fit_transform(Y_train.reshape(-1, 1))\n",
    "print(Y_train.shape)"
   ]
  },
  {
   "cell_type": "code",
   "execution_count": 5,
   "id": "5e4e70d5-c696-4c96-b00d-ce38146f9bd6",
   "metadata": {},
   "outputs": [],
   "source": [
    "X_train = X_train.reshape(-1, 4, 8)\n",
    "X_test = X_test.reshape(-1, 4, 8)"
   ]
  },
  {
   "cell_type": "markdown",
   "id": "30903884",
   "metadata": {
    "pycharm": {
     "name": "#%% md\n"
    }
   },
   "source": [
    "# Training"
   ]
  },
  {
   "cell_type": "code",
   "execution_count": 6,
   "id": "3cb06cdb-569d-4688-a568-7b7a86469ad0",
   "metadata": {},
   "outputs": [],
   "source": [
    "from keras.models import Sequential\n",
    "from keras.layers import LSTM, Dense\n",
    "from keras.losses import MeanSquaredError\n",
    "from keras.optimizers import Adam\n",
    "import keras_tuner as kt\n",
    "\n",
    "def build_model(hp):\n",
    "    model = Sequential()\n",
    "    \n",
    "    # Tune the number of units in the LSTM per cell in the layer\n",
    "    # hp_units between 50-90\n",
    "    hp_units = hp.Int('units', min_value= 50, max_value= 90, step= 2)\n",
    "    model.add(LSTM(units= hp_units, activation= 'relu', input_shape= (4, 8)))\n",
    "    model.add(Dense(1))\n",
    "\n",
    "    # Tune the learning rate for the optimizer\n",
    "    # hp_learning_rate from 0.01, 0.001, or 0.0001\n",
    "    hp_learning_rate = hp.Float(\"learning_rate\", min_value=1e-4, max_value=1e-2, sampling=\"log\")\n",
    "    model.compile(optimizer= Adam(learning_rate= hp_learning_rate),\n",
    "                  loss= ['mean_squared_error'],\n",
    "                  metrics= [MeanSquaredError()])\n",
    "    return model\n",
    "\n",
    "tuner = kt.BayesianOptimization(\n",
    "    hypermodel= build_model,\n",
    "    objective= kt.Objective(\"val_mean_squared_error\", direction= \"min\"),\n",
    "    num_initial_points= 2,\n",
    "    executions_per_trial= 2,\n",
    "    project_name= \"lstm_automl\",\n",
    "    overwrite= True\n",
    ")"
   ]
  },
  {
   "cell_type": "code",
   "execution_count": 7,
   "id": "48dc235c-8c81-41b0-9b47-dbb1925283c5",
   "metadata": {},
   "outputs": [],
   "source": [
    "#tuner.reload()"
   ]
  },
  {
   "cell_type": "code",
   "execution_count": null,
   "id": "04801f00-16ae-4fee-9f89-ea7a498b2881",
   "metadata": {},
   "outputs": [
    {
     "name": "stdout",
     "output_type": "stream",
     "text": [
      "\n",
      "Search: Running Trial #1\n",
      "\n",
      "Value             |Best Value So Far |Hyperparameter\n",
      "64                |?                 |units\n",
      "0.00065413        |?                 |learning_rate\n",
      "\n",
      "Epoch 1/10\n",
      "26265/26265 [==============================] - 83s 3ms/step - loss: 0.0942 - mean_squared_error: 0.0942 - val_loss: 0.0965 - val_mean_squared_error: 0.0965\n",
      "Epoch 2/10\n",
      "26265/26265 [==============================] - 93s 4ms/step - loss: 0.0704 - mean_squared_error: 0.0704 - val_loss: 0.0937 - val_mean_squared_error: 0.0937\n",
      "Epoch 3/10\n",
      "10322/26265 [==========>...................] - ETA: 51s - loss: 0.0642 - mean_squared_error: 0.0642"
     ]
    }
   ],
   "source": [
    "tuner.search(x= X_train, y= Y_train, epochs= 10, validation_split= 0.2)\n",
    "\n",
    "tuner.results_summary()"
   ]
  },
  {
   "cell_type": "code",
   "execution_count": null,
   "id": "9f086722-bf0e-4d98-9136-89e76e0475aa",
   "metadata": {},
   "outputs": [],
   "source": [
    "best_hps = tuner.get_best_hyperparameters(num_trials=1)[0]\n",
    "print(f\"The best dimension of the hidden state found is {best_hps.get('units')} and the best learning rate found is {best_hps.get('learning_rate')}.\")"
   ]
  },
  {
   "cell_type": "code",
   "execution_count": null,
   "id": "75998d81-7e45-4f01-8ca4-4de76b858c48",
   "metadata": {
    "collapsed": false,
    "jupyter": {
     "outputs_hidden": false
    },
    "pycharm": {
     "name": "#%%\n"
    }
   },
   "outputs": [],
   "source": [
    "model = tuner.hypermodel.build(best_hps)\n",
    "history = model.fit(X_train, Y_train, epochs= 10, validation_split= 0.2)"
   ]
  },
  {
   "cell_type": "code",
   "execution_count": null,
   "id": "9639daa7-925d-483c-8370-38adf9f0f2da",
   "metadata": {},
   "outputs": [],
   "source": [
    "from sklearn.metrics import mean_squared_error\n",
    "from math import sqrt\n",
    "\n",
    "print('Loss (RMSE) : %.3f' % sqrt(mean_squared_error(Y_train, model.predict(X_train))))"
   ]
  },
  {
   "cell_type": "markdown",
   "id": "82306ba6-e734-4d1c-8683-41082f994712",
   "metadata": {},
   "source": [
    "# Evaluation"
   ]
  },
  {
   "cell_type": "code",
   "execution_count": null,
   "id": "d1f3c7b8-bc2e-4acf-81a6-990563afcc56",
   "metadata": {},
   "outputs": [],
   "source": [
    "X_test = X_test[:1000]\n",
    "Y_test = Y_test[:1000]"
   ]
  },
  {
   "cell_type": "code",
   "execution_count": null,
   "id": "bc4f1484-ae8f-4ae2-897d-daf33b06eeb9",
   "metadata": {},
   "outputs": [],
   "source": [
    "print(X_test.shape, Y_test.shape)"
   ]
  },
  {
   "cell_type": "code",
   "execution_count": null,
   "id": "72f94b69-0f44-4fc4-a607-6463d0ee83b9",
   "metadata": {},
   "outputs": [],
   "source": [
    "sw = SlidingWindow(X_test)\n",
    "\n",
    "pred = model.predict(sw.values.reshape(-1, 4, 8), verbose=2)\n",
    "Y_preds = [pred]\n",
    "\n",
    "last_progression = 0\n",
    "print(0, '%')\n",
    "while sw.next(pred): # iterator: t-1\n",
    "    arg = sw.values.reshape(-1, 4, 8)\n",
    "    pred = model.predict(sw.values.reshape(-1, 4, 8), verbose=0) # iterator: t\n",
    "    if np.isnan(pred):\n",
    "        print(arg)\n",
    "    Y_preds.append(pred)\n",
    "        \n",
    "    progression = (sw.it+1) / len(X_test) * 100\n",
    "    if progression - last_progression > 1 and not int(progression) % 10:\n",
    "        print(int(progression), '%')\n",
    "        last_progression = progression"
   ]
  },
  {
   "cell_type": "code",
   "execution_count": null,
   "id": "7ce4124e-4d63-4ea3-8994-b9e2f8719d7d",
   "metadata": {},
   "outputs": [],
   "source": [
    "Y_preds = np.array(Y_preds).reshape(-1)"
   ]
  },
  {
   "cell_type": "code",
   "execution_count": null,
   "id": "243764ff",
   "metadata": {
    "collapsed": false,
    "jupyter": {
     "outputs_hidden": false
    },
    "pycharm": {
     "name": "#%%\n"
    }
   },
   "outputs": [],
   "source": [
    "print('Test RMSE : %.3f' % sqrt(mean_squared_error(Y_test, Y_preds)))"
   ]
  },
  {
   "cell_type": "code",
   "execution_count": null,
   "id": "8f524dea-d5ab-4318-a3da-de2e8d6c0cb3",
   "metadata": {
    "collapsed": false,
    "jupyter": {
     "outputs_hidden": false
    },
    "pycharm": {
     "name": "#%%\n"
    }
   },
   "outputs": [],
   "source": [
    "Y_preds = sc_y.inverse_transform(Y_preds.reshape(1, -1))\n",
    "Y_preds = Y_preds.reshape(-1)"
   ]
  },
  {
   "cell_type": "code",
   "execution_count": null,
   "id": "f714fb9f-10a2-4ced-9d2e-36b4cb69e06e",
   "metadata": {
    "collapsed": false,
    "jupyter": {
     "outputs_hidden": false
    },
    "pycharm": {
     "name": "#%%\n"
    }
   },
   "outputs": [],
   "source": [
    "year = 5\n",
    "plt.plot([decade for decade in range(37)], Y_test[37*year:37*(year+1)], color=\"blue\", label= \"Test values\")\n",
    "plt.plot([decade for decade in range(37)], Y_preds[37*year:37*(year+1)], color=\"red\", label= \"Predicted values\")\n",
    "plt.xlabel(\"Decades\")\n",
    "plt.ylabel(\"Growth\")\n",
    "plt.legend()\n",
    "plt.show()"
   ]
  },
  {
   "cell_type": "code",
   "execution_count": null,
   "id": "9083ddcc-539b-4c86-b84d-b0422341788b",
   "metadata": {},
   "outputs": [],
   "source": []
  }
 ],
 "metadata": {
  "kernelspec": {
   "display_name": "Python 3 (ipykernel)",
   "language": "python",
   "name": "python3"
  },
  "language_info": {
   "codemirror_mode": {
    "name": "ipython",
    "version": 3
   },
   "file_extension": ".py",
   "mimetype": "text/x-python",
   "name": "python",
   "nbconvert_exporter": "python",
   "pygments_lexer": "ipython3",
   "version": "3.10.8"
  }
 },
 "nbformat": 4,
 "nbformat_minor": 5
}
