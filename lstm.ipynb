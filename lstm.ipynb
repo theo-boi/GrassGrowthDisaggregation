{
 "cells": [
  {
   "cell_type": "code",
   "execution_count": 1,
   "id": "167d5bd0",
   "metadata": {
    "collapsed": false,
    "jupyter": {
     "outputs_hidden": false
    },
    "pycharm": {
     "name": "#%%\n"
    }
   },
   "outputs": [],
   "source": [
    "# Import libraries\n",
    "\n",
    "import numpy as np\n",
    "import matplotlib.pyplot as plt\n",
    "\n",
    "from data import pipeline\n",
    "from data.window import SlidingWindow"
   ]
  },
  {
   "cell_type": "markdown",
   "id": "664444fd-2e5e-4513-899f-bd6d56e73f88",
   "metadata": {},
   "source": [
    "# Data preparation"
   ]
  },
  {
   "cell_type": "code",
   "execution_count": 2,
   "id": "de58b36c-5a4e-4c41-8ffb-97ee83e5f381",
   "metadata": {
    "collapsed": false,
    "jupyter": {
     "outputs_hidden": false
    },
    "pycharm": {
     "name": "#%%\n"
    }
   },
   "outputs": [
    {
     "name": "stdout",
     "output_type": "stream",
     "text": [
      "Loading LSTM dataset\n",
      "Done!\n"
     ]
    }
   ],
   "source": [
    "X_train, Y_train, X_test, Y_test = pipeline.load(\"LSTM\") # load / buildAndSave / build"
   ]
  },
  {
   "cell_type": "code",
   "execution_count": 3,
   "id": "48ea8173-36d8-47a4-b897-089337601637",
   "metadata": {},
   "outputs": [
    {
     "name": "stdout",
     "output_type": "stream",
     "text": [
      "(1027718, 4, 8)\n",
      "(1027718, 1)\n"
     ]
    }
   ],
   "source": [
    "print(X_train.shape)\n",
    "print(Y_train.shape)"
   ]
  },
  {
   "cell_type": "code",
   "execution_count": 4,
   "id": "c007728d-51a5-435a-8289-a297edc20405",
   "metadata": {
    "collapsed": false,
    "jupyter": {
     "outputs_hidden": false
    },
    "pycharm": {
     "name": "#%%\n"
    }
   },
   "outputs": [
    {
     "name": "stdout",
     "output_type": "stream",
     "text": [
      "(1027718, 1)\n"
     ]
    }
   ],
   "source": [
    "from sklearn.preprocessing import StandardScaler\n",
    "\n",
    "X_train = X_train.reshape(-1, 32)\n",
    "X_test = X_test.reshape(-1, 32)\n",
    "\n",
    "sc_X = StandardScaler()\n",
    "X_train = sc_X.fit_transform(X_train)\n",
    "X_test = sc_X.transform(X_test)\n",
    "\n",
    "sc_y = StandardScaler()\n",
    "Y_train = sc_y.fit_transform(Y_train.reshape(-1, 1))\n",
    "print(Y_train.shape)"
   ]
  },
  {
   "cell_type": "code",
   "execution_count": 5,
   "id": "5e4e70d5-c696-4c96-b00d-ce38146f9bd6",
   "metadata": {},
   "outputs": [],
   "source": [
    "X_train = X_train.reshape(-1, 4, 8)\n",
    "X_test = X_test.reshape(-1, 4, 8)"
   ]
  },
  {
   "cell_type": "markdown",
   "id": "30903884",
   "metadata": {
    "pycharm": {
     "name": "#%% md\n"
    }
   },
   "source": [
    "# Training"
   ]
  },
  {
   "cell_type": "code",
   "execution_count": 6,
   "id": "32a504a1-b068-40bb-8ac3-dd3a9a7cd3bf",
   "metadata": {},
   "outputs": [],
   "source": [
    "batch, window, features = X_train.shape"
   ]
  },
  {
   "cell_type": "code",
   "execution_count": null,
   "id": "defa4a32-c140-4262-8666-d88544f23ff0",
   "metadata": {
    "collapsed": false,
    "jupyter": {
     "outputs_hidden": false
    },
    "pycharm": {
     "name": "#%%\n"
    }
   },
   "outputs": [],
   "source": [
    "from keras.models import Sequential\n",
    "from keras.layers import LSTM, Dense\n",
    "\n",
    "model = Sequential()\n",
    "model.add(LSTM(86, activation='relu', input_shape=(window, features)))\n",
    "model.add(Dense(1))\n",
    "model.compile(optimizer='adam', loss='mse')"
   ]
  },
  {
   "cell_type": "code",
   "execution_count": null,
   "id": "43f26b98-6214-4e2b-8032-0d324fe9d302",
   "metadata": {},
   "outputs": [],
   "source": [
    "from keras.models import Sequential\n",
    "from keras.layers import LSTM, Dense\n",
    "from keras.losses import MeanSquaredError\n",
    "from keras.optimizers import Adam\n",
    "import keras_tuner as kt\n",
    "\n",
    "def build_model(hp):\n",
    "    model = Sequential()\n",
    "    \n",
    "    # Tune the number of units in the LSTM per cell in the layer\n",
    "    # hp_units between 50-100\n",
    "    hp_units = hp.Int('units', min_value= 50, max_value= 100, step= 5)\n",
    "    model.add(LSTM(units= hp_units, activation= 'relu', input_shape= (4, 8)))\n",
    "    model.add(Dense(1))\n",
    "\n",
    "    # Tune the learning rate for the optimizer\n",
    "    # hp_learning_rate from 0.01, 0.001, or 0.0001\n",
    "    hp_learning_rate = hp.Float(\"learning_rate\", min_value=1e-4, max_value=1e-2, sampling=\"log\")\n",
    "    model.compile(optimizer= Adam(learning_rate= hp_learning_rate),\n",
    "                  loss= ['mean_squared_error'],\n",
    "                  metrics= [MeanSquaredError()])\n",
    "    return model\n",
    "\n",
    "# create model\n",
    "tuner = kt.RandomSearch(\n",
    "    hypermodel= build_model,\n",
    "    objective= kt.Objective(\"val_mean_squared_error\", direction= \"min\"),\n",
    "    executions_per_trial= 2,\n",
    "    project_name= \"lstm_automl\",\n",
    ")\n",
    "\n",
    "tuner.search(x= X_train, y= Y_train, epochs= 1, validation_split= 0.2) # epochs= 10\n",
    "\n",
    "tuner.results_summary()"
   ]
  },
  {
   "cell_type": "code",
   "execution_count": 21,
   "id": "9f086722-bf0e-4d98-9136-89e76e0475aa",
   "metadata": {},
   "outputs": [
    {
     "name": "stdout",
     "output_type": "stream",
     "text": [
      "The best dimension of the hidden state found is 65 and the best learning rate found is 0.0001.\n"
     ]
    }
   ],
   "source": [
    "best_hps = tuner.get_best_hyperparameters(num_trials=1)[0]\n",
    "print(f\"The best dimension of the hidden state found is {best_hps.get('units')} and the best learning rate found is {best_hps.get('learning_rate')}.\")"
   ]
  },
  {
   "cell_type": "code",
   "execution_count": 22,
   "id": "75998d81-7e45-4f01-8ca4-4de76b858c48",
   "metadata": {
    "collapsed": false,
    "jupyter": {
     "outputs_hidden": false
    },
    "pycharm": {
     "name": "#%%\n"
    }
   },
   "outputs": [],
   "source": [
    "model = tuner.hypermodel.build(best_hps)\n",
    "history = model.fit(X_train, Y_train, epochs= 10, validation_split= 0.2)"
   ]
  },
  {
   "cell_type": "code",
   "execution_count": 23,
   "id": "4ece5f1f-edf6-4ae5-a50c-fa8bcbcbc751",
   "metadata": {
    "collapsed": false,
    "jupyter": {
     "outputs_hidden": false
    },
    "pycharm": {
     "name": "#%%\n"
    }
   },
   "outputs": [
    {
     "name": "stdout",
     "output_type": "stream",
     "text": [
      "Best epoch: 1\n"
     ]
    }
   ],
   "source": [
    "val_acc_per_epoch = history.history['val_mean_squared_error']\n",
    "best_epoch = val_acc_per_epoch.index(max(val_acc_per_epoch)) + 1\n",
    "print('Best epoch: %d' % (best_epoch,))"
   ]
  },
  {
   "cell_type": "code",
   "execution_count": 25,
   "id": "79247d03-66a2-44ae-9802-0eb76085f460",
   "metadata": {},
   "outputs": [
    {
     "name": "stdout",
     "output_type": "stream",
     "text": [
      "32117/32117 [==============================] - 41s 1ms/step\n",
      "Train MSE : 0.230\n"
     ]
    }
   ],
   "source": [
    "from sklearn.metrics import mean_squared_error\n",
    "from math import sqrt\n",
    "\n",
    "print('Train MSE : %.3f' % sqrt(mean_squared_error(Y_train, model.predict(X_train))))"
   ]
  },
  {
   "cell_type": "markdown",
   "id": "82306ba6-e734-4d1c-8683-41082f994712",
   "metadata": {},
   "source": [
    "# Evaluation"
   ]
  },
  {
   "cell_type": "code",
   "execution_count": 30,
   "id": "d1f3c7b8-bc2e-4acf-81a6-990563afcc56",
   "metadata": {},
   "outputs": [],
   "source": [
    "X_test = X_test[:1000]"
   ]
  },
  {
   "cell_type": "code",
   "execution_count": 31,
   "id": "e5cce234-6699-4f30-8b5c-59a8a9b493cf",
   "metadata": {},
   "outputs": [],
   "source": [
    "sw = SlidingWindow(X_test)"
   ]
  },
  {
   "cell_type": "code",
   "execution_count": 32,
   "id": "bed80cc3-fea6-4ecb-ba9e-e0f749f73543",
   "metadata": {
    "collapsed": false,
    "jupyter": {
     "outputs_hidden": false
    },
    "pycharm": {
     "name": "#%%\n"
    }
   },
   "outputs": [
    {
     "name": "stdout",
     "output_type": "stream",
     "text": [
      "1/1 - 0s - 16ms/epoch - 16ms/step\n"
     ]
    }
   ],
   "source": [
    "pred = model.predict(sw.values.reshape(-1, 4, 8), verbose=2)\n",
    "Y_preds = [pred]"
   ]
  },
  {
   "cell_type": "code",
   "execution_count": 33,
   "id": "3d87183e-704b-4cde-a3b7-af8652ea3218",
   "metadata": {
    "collapsed": false,
    "jupyter": {
     "outputs_hidden": false
    },
    "pycharm": {
     "name": "#%%\n"
    }
   },
   "outputs": [
    {
     "name": "stdout",
     "output_type": "stream",
     "text": [
      "0 %\n",
      "10 %\n",
      "20 %\n",
      "30 %\n",
      "40 %\n",
      "50 %\n",
      "60 %\n",
      "70 %\n",
      "80 %\n",
      "90 %\n",
      "100 %\n"
     ]
    }
   ],
   "source": [
    "last_progression = 0\n",
    "print(0, '%')\n",
    "while sw.next(pred): # iterator: t-1\n",
    "    pred = model.predict(sw.values.reshape(-1, 4, 8), verbose=0) # iterator: t\n",
    "    Y_preds.append(pred)\n",
    "        \n",
    "    progression = (sw.it+1) / len(X_test) * 100\n",
    "    if progression - last_progression > 1 and not int(progression) % 10:\n",
    "        print(int(progression), '%')\n",
    "        last_progression = progression"
   ]
  },
  {
   "cell_type": "code",
   "execution_count": 34,
   "id": "7ce4124e-4d63-4ea3-8994-b9e2f8719d7d",
   "metadata": {},
   "outputs": [],
   "source": [
    "Y_preds = np.array(Y_preds)"
   ]
  },
  {
   "cell_type": "code",
   "execution_count": 35,
   "id": "8f524dea-d5ab-4318-a3da-de2e8d6c0cb3",
   "metadata": {
    "collapsed": false,
    "jupyter": {
     "outputs_hidden": false
    },
    "pycharm": {
     "name": "#%%\n"
    }
   },
   "outputs": [],
   "source": [
    "Y_preds = sc_y.inverse_transform(Y_preds.reshape(1, -1))\n",
    "Y_preds = Y_preds.reshape(-1)"
   ]
  },
  {
   "cell_type": "code",
   "execution_count": 36,
   "id": "f714fb9f-10a2-4ced-9d2e-36b4cb69e06e",
   "metadata": {
    "collapsed": false,
    "jupyter": {
     "outputs_hidden": false
    },
    "pycharm": {
     "name": "#%%\n"
    }
   },
   "outputs": [
    {
     "data": {
      "image/png": "[encoded data removed]",
      "text/plain": [
       "<Figure size 640x480 with 1 Axes>"
      ]
     },
     "metadata": {},
     "output_type": "display_data"
    }
   ],
   "source": [
    "Y_preds = Y_preds.reshape(-1)\n",
    "plt.plot(np.arange(len(Y_preds[:200])), Y_test[:200], color=\"blue\", label= \"Test values\")\n",
    "plt.plot(np.arange(len(Y_preds[:200])), Y_preds[:200], color=\"red\", label= \"Predicted values\")\n",
    "plt.xlabel(\"Decades\")\n",
    "plt.ylabel(\"Growth\")\n",
    "plt.legend()\n",
    "plt.show()"
   ]
  },
  {
   "cell_type": "code",
   "execution_count": 37,
   "id": "243764ff",
   "metadata": {
    "collapsed": false,
    "jupyter": {
     "outputs_hidden": false
    },
    "pycharm": {
     "name": "#%%\n"
    }
   },
   "outputs": [
    {
     "name": "stdout",
     "output_type": "stream",
     "text": [
      "Test MSE  : 8.540\n"
     ]
    }
   ],
   "source": [
    "print('Test MSE  : %.3f' % sqrt(mean_squared_error(Y_test[:1000], Y_preds)))"
   ]
  },
  {
   "cell_type": "code",
   "execution_count": null,
   "id": "21ac8925-e779-4e8e-bf60-7823f2764acd",
   "metadata": {},
   "outputs": [],
   "source": []
  }
 ],
 "metadata": {
  "kernelspec": {
   "display_name": "Python 3 (ipykernel)",
   "language": "python",
   "name": "python3"
  },
  "language_info": {
   "codemirror_mode": {
    "name": "ipython",
    "version": 3
   },
   "file_extension": ".py",
   "mimetype": "text/x-python",
   "name": "python",
   "nbconvert_exporter": "python",
   "pygments_lexer": "ipython3",
   "version": "3.10.8"
  }
 },
 "nbformat": 4,
 "nbformat_minor": 5
}
